{
  "nbformat": 4,
  "nbformat_minor": 0,
  "metadata": {
    "colab": {
      "name": "NLP",
      "provenance": [],
      "collapsed_sections": [],
      "toc_visible": true
    },
    "kernelspec": {
      "name": "python3",
      "display_name": "Python 3"
    }
  },
  "cells": [
    {
      "cell_type": "markdown",
      "metadata": {
        "id": "-hd1rFST2_2V"
      },
      "source": [
        "# **Project Description:Twitter Sentiment Analysis for 'US-Airline'**\n",
        "\n",
        "Problem statement is to classify sentiment as positive, negative and neutral based on the tweets."
      ]
    },
    {
      "cell_type": "code",
      "metadata": {
        "colab": {
          "base_uri": "https://localhost:8080/"
        },
        "id": "ycTsTHgFSmG0",
        "outputId": "8c9a6da0-4666-40f2-8daf-6f659b9356e2"
      },
      "source": [
        "# install and import necessary libraries.\n",
        "\n",
        "!pip install contractions\n",
        "\n",
        "import re, string, unicodedata                          # Import Regex, string and unicodedata.\n",
        "import contractions                                     # Import contractions library.\n",
        "from bs4 import BeautifulSoup                           # Import BeautifulSoup.\n",
        "import seaborn as sns\n",
        "import numpy as np                                      # Import numpy.\n",
        "import pandas as pd                                     # Import pandas.\n",
        "import nltk                                             # Import Natural Language Tool-Kit.\n",
        "\n",
        "nltk.download('stopwords')                              # Download Stopwords.\n",
        "nltk.download('punkt')\n",
        "nltk.download('wordnet')\n",
        "\n",
        "from nltk.corpus import stopwords                       # Import stopwords.\n",
        "from nltk.tokenize import word_tokenize, sent_tokenize  # Import Tokenizer.\n",
        "from nltk.stem.wordnet import WordNetLemmatizer \n",
        "from keras.preprocessing.text import Tokenizer"
      ],
      "execution_count": null,
      "outputs": [
        {
          "output_type": "stream",
          "text": [
            "Requirement already satisfied: contractions in /usr/local/lib/python3.7/dist-packages (0.0.48)\n",
            "Requirement already satisfied: textsearch>=0.0.21 in /usr/local/lib/python3.7/dist-packages (from contractions) (0.0.21)\n",
            "Requirement already satisfied: pyahocorasick in /usr/local/lib/python3.7/dist-packages (from textsearch>=0.0.21->contractions) (1.4.2)\n",
            "Requirement already satisfied: anyascii in /usr/local/lib/python3.7/dist-packages (from textsearch>=0.0.21->contractions) (0.1.7)\n",
            "[nltk_data] Downloading package stopwords to /root/nltk_data...\n",
            "[nltk_data]   Package stopwords is already up-to-date!\n",
            "[nltk_data] Downloading package punkt to /root/nltk_data...\n",
            "[nltk_data]   Package punkt is already up-to-date!\n",
            "[nltk_data] Downloading package wordnet to /root/nltk_data...\n",
            "[nltk_data]   Package wordnet is already up-to-date!\n"
          ],
          "name": "stdout"
        }
      ]
    },
    {
      "cell_type": "code",
      "metadata": {
        "colab": {
          "base_uri": "https://localhost:8080/"
        },
        "id": "boJjV0GM59OS",
        "outputId": "0345f64b-e5cf-4d5c-e296-2c4378ead85a"
      },
      "source": [
        "# mount drive in colab\n",
        "from google.colab import drive\n",
        "drive.mount('/content/drive')"
      ],
      "execution_count": null,
      "outputs": [
        {
          "output_type": "stream",
          "text": [
            "Mounted at /content/drive\n"
          ],
          "name": "stdout"
        }
      ]
    },
    {
      "cell_type": "code",
      "metadata": {
        "id": "BMp0f2wE5rt1"
      },
      "source": [
        "# Read the csv file and convert it into pandas dataframe\n",
        "twitter_df = pd.read_csv(\"/content/drive/MyDrive/Tweets.csv\")"
      ],
      "execution_count": null,
      "outputs": []
    },
    {
      "cell_type": "code",
      "metadata": {
        "colab": {
          "base_uri": "https://localhost:8080/"
        },
        "id": "cBfNJ1tf1TQe",
        "outputId": "8f29ba14-1bbe-479d-d15d-d0cba97ef3ec"
      },
      "source": [
        "# Get the information about data and its type\n",
        "twitter_df.info()"
      ],
      "execution_count": null,
      "outputs": [
        {
          "output_type": "stream",
          "text": [
            "<class 'pandas.core.frame.DataFrame'>\n",
            "RangeIndex: 14640 entries, 0 to 14639\n",
            "Data columns (total 15 columns):\n",
            " #   Column                        Non-Null Count  Dtype  \n",
            "---  ------                        --------------  -----  \n",
            " 0   tweet_id                      14640 non-null  int64  \n",
            " 1   airline_sentiment             14640 non-null  object \n",
            " 2   airline_sentiment_confidence  14640 non-null  float64\n",
            " 3   negativereason                9178 non-null   object \n",
            " 4   negativereason_confidence     10522 non-null  float64\n",
            " 5   airline                       14640 non-null  object \n",
            " 6   airline_sentiment_gold        40 non-null     object \n",
            " 7   name                          14640 non-null  object \n",
            " 8   negativereason_gold           32 non-null     object \n",
            " 9   retweet_count                 14640 non-null  int64  \n",
            " 10  text                          14640 non-null  object \n",
            " 11  tweet_coord                   1019 non-null   object \n",
            " 12  tweet_created                 14640 non-null  object \n",
            " 13  tweet_location                9907 non-null   object \n",
            " 14  user_timezone                 9820 non-null   object \n",
            "dtypes: float64(2), int64(2), object(11)\n",
            "memory usage: 1.7+ MB\n"
          ],
          "name": "stdout"
        }
      ]
    },
    {
      "cell_type": "code",
      "metadata": {
        "colab": {
          "base_uri": "https://localhost:8080/",
          "height": 297
        },
        "id": "DXbaiK4DM3Xd",
        "outputId": "50eb405c-ac67-4149-e8e0-2761dcbbf2d7"
      },
      "source": [
        "twitter_df.describe()"
      ],
      "execution_count": null,
      "outputs": [
        {
          "output_type": "execute_result",
          "data": {
            "text/html": [
              "<div>\n",
              "<style scoped>\n",
              "    .dataframe tbody tr th:only-of-type {\n",
              "        vertical-align: middle;\n",
              "    }\n",
              "\n",
              "    .dataframe tbody tr th {\n",
              "        vertical-align: top;\n",
              "    }\n",
              "\n",
              "    .dataframe thead th {\n",
              "        text-align: right;\n",
              "    }\n",
              "</style>\n",
              "<table border=\"1\" class=\"dataframe\">\n",
              "  <thead>\n",
              "    <tr style=\"text-align: right;\">\n",
              "      <th></th>\n",
              "      <th>tweet_id</th>\n",
              "      <th>airline_sentiment_confidence</th>\n",
              "      <th>negativereason_confidence</th>\n",
              "      <th>retweet_count</th>\n",
              "    </tr>\n",
              "  </thead>\n",
              "  <tbody>\n",
              "    <tr>\n",
              "      <th>count</th>\n",
              "      <td>1.464000e+04</td>\n",
              "      <td>14640.000000</td>\n",
              "      <td>10522.000000</td>\n",
              "      <td>14640.000000</td>\n",
              "    </tr>\n",
              "    <tr>\n",
              "      <th>mean</th>\n",
              "      <td>5.692184e+17</td>\n",
              "      <td>0.900169</td>\n",
              "      <td>0.638298</td>\n",
              "      <td>0.082650</td>\n",
              "    </tr>\n",
              "    <tr>\n",
              "      <th>std</th>\n",
              "      <td>7.791112e+14</td>\n",
              "      <td>0.162830</td>\n",
              "      <td>0.330440</td>\n",
              "      <td>0.745778</td>\n",
              "    </tr>\n",
              "    <tr>\n",
              "      <th>min</th>\n",
              "      <td>5.675883e+17</td>\n",
              "      <td>0.335000</td>\n",
              "      <td>0.000000</td>\n",
              "      <td>0.000000</td>\n",
              "    </tr>\n",
              "    <tr>\n",
              "      <th>25%</th>\n",
              "      <td>5.685592e+17</td>\n",
              "      <td>0.692300</td>\n",
              "      <td>0.360600</td>\n",
              "      <td>0.000000</td>\n",
              "    </tr>\n",
              "    <tr>\n",
              "      <th>50%</th>\n",
              "      <td>5.694779e+17</td>\n",
              "      <td>1.000000</td>\n",
              "      <td>0.670600</td>\n",
              "      <td>0.000000</td>\n",
              "    </tr>\n",
              "    <tr>\n",
              "      <th>75%</th>\n",
              "      <td>5.698905e+17</td>\n",
              "      <td>1.000000</td>\n",
              "      <td>1.000000</td>\n",
              "      <td>0.000000</td>\n",
              "    </tr>\n",
              "    <tr>\n",
              "      <th>max</th>\n",
              "      <td>5.703106e+17</td>\n",
              "      <td>1.000000</td>\n",
              "      <td>1.000000</td>\n",
              "      <td>44.000000</td>\n",
              "    </tr>\n",
              "  </tbody>\n",
              "</table>\n",
              "</div>"
            ],
            "text/plain": [
              "           tweet_id  ...  retweet_count\n",
              "count  1.464000e+04  ...   14640.000000\n",
              "mean   5.692184e+17  ...       0.082650\n",
              "std    7.791112e+14  ...       0.745778\n",
              "min    5.675883e+17  ...       0.000000\n",
              "25%    5.685592e+17  ...       0.000000\n",
              "50%    5.694779e+17  ...       0.000000\n",
              "75%    5.698905e+17  ...       0.000000\n",
              "max    5.703106e+17  ...      44.000000\n",
              "\n",
              "[8 rows x 4 columns]"
            ]
          },
          "metadata": {
            "tags": []
          },
          "execution_count": 7
        }
      ]
    },
    {
      "cell_type": "code",
      "metadata": {
        "id": "seZYLXvO8mmy"
      },
      "source": [
        "#sns.countplot(x=\"text\", data=twitter_df,hue=\"airline_sentiment\")"
      ],
      "execution_count": null,
      "outputs": []
    },
    {
      "cell_type": "code",
      "metadata": {
        "colab": {
          "base_uri": "https://localhost:8080/"
        },
        "id": "tYYQpebI7bKX",
        "outputId": "bfa7b083-1f36-4819-d856-c36bea9d0ad7"
      },
      "source": [
        "#Print the data shape\n",
        "twitter_df.shape\n"
      ],
      "execution_count": null,
      "outputs": [
        {
          "output_type": "execute_result",
          "data": {
            "text/plain": [
              "(14640, 15)"
            ]
          },
          "metadata": {
            "tags": []
          },
          "execution_count": 9
        }
      ]
    },
    {
      "cell_type": "code",
      "metadata": {
        "colab": {
          "base_uri": "https://localhost:8080/"
        },
        "id": "Sd9omgQT7huU",
        "outputId": "779b951b-7d6d-4647-cfbd-8937ec86ff32"
      },
      "source": [
        "twitter_df.columns"
      ],
      "execution_count": null,
      "outputs": [
        {
          "output_type": "execute_result",
          "data": {
            "text/plain": [
              "Index(['tweet_id', 'airline_sentiment', 'airline_sentiment_confidence',\n",
              "       'negativereason', 'negativereason_confidence', 'airline',\n",
              "       'airline_sentiment_gold', 'name', 'negativereason_gold',\n",
              "       'retweet_count', 'text', 'tweet_coord', 'tweet_created',\n",
              "       'tweet_location', 'user_timezone'],\n",
              "      dtype='object')"
            ]
          },
          "metadata": {
            "tags": []
          },
          "execution_count": 137
        }
      ]
    },
    {
      "cell_type": "code",
      "metadata": {
        "colab": {
          "base_uri": "https://localhost:8080/",
          "height": 632
        },
        "id": "qbKGMyxE7rhc",
        "outputId": "0d618da4-9d89-47dc-d5a6-1c370c48e62b"
      },
      "source": [
        "twitter_df.head()"
      ],
      "execution_count": null,
      "outputs": [
        {
          "output_type": "execute_result",
          "data": {
            "text/html": [
              "<div>\n",
              "<style scoped>\n",
              "    .dataframe tbody tr th:only-of-type {\n",
              "        vertical-align: middle;\n",
              "    }\n",
              "\n",
              "    .dataframe tbody tr th {\n",
              "        vertical-align: top;\n",
              "    }\n",
              "\n",
              "    .dataframe thead th {\n",
              "        text-align: right;\n",
              "    }\n",
              "</style>\n",
              "<table border=\"1\" class=\"dataframe\">\n",
              "  <thead>\n",
              "    <tr style=\"text-align: right;\">\n",
              "      <th></th>\n",
              "      <th>tweet_id</th>\n",
              "      <th>airline_sentiment</th>\n",
              "      <th>airline_sentiment_confidence</th>\n",
              "      <th>negativereason</th>\n",
              "      <th>negativereason_confidence</th>\n",
              "      <th>airline</th>\n",
              "      <th>airline_sentiment_gold</th>\n",
              "      <th>name</th>\n",
              "      <th>negativereason_gold</th>\n",
              "      <th>retweet_count</th>\n",
              "      <th>text</th>\n",
              "      <th>tweet_coord</th>\n",
              "      <th>tweet_created</th>\n",
              "      <th>tweet_location</th>\n",
              "      <th>user_timezone</th>\n",
              "    </tr>\n",
              "  </thead>\n",
              "  <tbody>\n",
              "    <tr>\n",
              "      <th>0</th>\n",
              "      <td>570306133677760513</td>\n",
              "      <td>neutral</td>\n",
              "      <td>1.0000</td>\n",
              "      <td>NaN</td>\n",
              "      <td>NaN</td>\n",
              "      <td>Virgin America</td>\n",
              "      <td>NaN</td>\n",
              "      <td>cairdin</td>\n",
              "      <td>NaN</td>\n",
              "      <td>0</td>\n",
              "      <td>@VirginAmerica What @dhepburn said.</td>\n",
              "      <td>NaN</td>\n",
              "      <td>2015-02-24 11:35:52 -0800</td>\n",
              "      <td>NaN</td>\n",
              "      <td>Eastern Time (US &amp; Canada)</td>\n",
              "    </tr>\n",
              "    <tr>\n",
              "      <th>1</th>\n",
              "      <td>570301130888122368</td>\n",
              "      <td>positive</td>\n",
              "      <td>0.3486</td>\n",
              "      <td>NaN</td>\n",
              "      <td>0.0000</td>\n",
              "      <td>Virgin America</td>\n",
              "      <td>NaN</td>\n",
              "      <td>jnardino</td>\n",
              "      <td>NaN</td>\n",
              "      <td>0</td>\n",
              "      <td>@VirginAmerica plus you've added commercials to the experience... tacky.</td>\n",
              "      <td>NaN</td>\n",
              "      <td>2015-02-24 11:15:59 -0800</td>\n",
              "      <td>NaN</td>\n",
              "      <td>Pacific Time (US &amp; Canada)</td>\n",
              "    </tr>\n",
              "    <tr>\n",
              "      <th>2</th>\n",
              "      <td>570301083672813571</td>\n",
              "      <td>neutral</td>\n",
              "      <td>0.6837</td>\n",
              "      <td>NaN</td>\n",
              "      <td>NaN</td>\n",
              "      <td>Virgin America</td>\n",
              "      <td>NaN</td>\n",
              "      <td>yvonnalynn</td>\n",
              "      <td>NaN</td>\n",
              "      <td>0</td>\n",
              "      <td>@VirginAmerica I didn't today... Must mean I need to take another trip!</td>\n",
              "      <td>NaN</td>\n",
              "      <td>2015-02-24 11:15:48 -0800</td>\n",
              "      <td>Lets Play</td>\n",
              "      <td>Central Time (US &amp; Canada)</td>\n",
              "    </tr>\n",
              "    <tr>\n",
              "      <th>3</th>\n",
              "      <td>570301031407624196</td>\n",
              "      <td>negative</td>\n",
              "      <td>1.0000</td>\n",
              "      <td>Bad Flight</td>\n",
              "      <td>0.7033</td>\n",
              "      <td>Virgin America</td>\n",
              "      <td>NaN</td>\n",
              "      <td>jnardino</td>\n",
              "      <td>NaN</td>\n",
              "      <td>0</td>\n",
              "      <td>@VirginAmerica it's really aggressive to blast obnoxious \"entertainment\" in your guests' faces &amp;amp; they have little recourse</td>\n",
              "      <td>NaN</td>\n",
              "      <td>2015-02-24 11:15:36 -0800</td>\n",
              "      <td>NaN</td>\n",
              "      <td>Pacific Time (US &amp; Canada)</td>\n",
              "    </tr>\n",
              "    <tr>\n",
              "      <th>4</th>\n",
              "      <td>570300817074462722</td>\n",
              "      <td>negative</td>\n",
              "      <td>1.0000</td>\n",
              "      <td>Can't Tell</td>\n",
              "      <td>1.0000</td>\n",
              "      <td>Virgin America</td>\n",
              "      <td>NaN</td>\n",
              "      <td>jnardino</td>\n",
              "      <td>NaN</td>\n",
              "      <td>0</td>\n",
              "      <td>@VirginAmerica and it's a really big bad thing about it</td>\n",
              "      <td>NaN</td>\n",
              "      <td>2015-02-24 11:14:45 -0800</td>\n",
              "      <td>NaN</td>\n",
              "      <td>Pacific Time (US &amp; Canada)</td>\n",
              "    </tr>\n",
              "  </tbody>\n",
              "</table>\n",
              "</div>"
            ],
            "text/plain": [
              "             tweet_id  ...               user_timezone\n",
              "0  570306133677760513  ...  Eastern Time (US & Canada)\n",
              "1  570301130888122368  ...  Pacific Time (US & Canada)\n",
              "2  570301083672813571  ...  Central Time (US & Canada)\n",
              "3  570301031407624196  ...  Pacific Time (US & Canada)\n",
              "4  570300817074462722  ...  Pacific Time (US & Canada)\n",
              "\n",
              "[5 rows x 15 columns]"
            ]
          },
          "metadata": {
            "tags": []
          },
          "execution_count": 138
        }
      ]
    },
    {
      "cell_type": "code",
      "metadata": {
        "colab": {
          "base_uri": "https://localhost:8080/"
        },
        "id": "NEelTXd3794N",
        "outputId": "929fc44f-df71-4678-b2f3-c001dc21c4c8"
      },
      "source": [
        "# Only keeping airline_sentiment, text from the data, as these are useful for our analysis and dropping rest of the columns\n",
        "\n",
        "twitter_df = twitter_df.loc[:14639, ['airline_sentiment', 'text']]\n",
        "twitter_df.head"
      ],
      "execution_count": null,
      "outputs": [
        {
          "output_type": "execute_result",
          "data": {
            "text/plain": [
              "<bound method NDFrame.head of       airline_sentiment                                               text\n",
              "0               neutral                @VirginAmerica What @dhepburn said.\n",
              "1              positive  @VirginAmerica plus you've added commercials t...\n",
              "2               neutral  @VirginAmerica I didn't today... Must mean I n...\n",
              "3              negative  @VirginAmerica it's really aggressive to blast...\n",
              "4              negative  @VirginAmerica and it's a really big bad thing...\n",
              "...                 ...                                                ...\n",
              "14635          positive  @AmericanAir thank you we got on a different f...\n",
              "14636          negative  @AmericanAir leaving over 20 minutes Late Flig...\n",
              "14637           neutral  @AmericanAir Please bring American Airlines to...\n",
              "14638          negative  @AmericanAir you have my money, you change my ...\n",
              "14639           neutral  @AmericanAir we have 8 ppl so we need 2 know h...\n",
              "\n",
              "[14640 rows x 2 columns]>"
            ]
          },
          "metadata": {
            "tags": []
          },
          "execution_count": 10
        }
      ]
    },
    {
      "cell_type": "code",
      "metadata": {
        "colab": {
          "base_uri": "https://localhost:8080/"
        },
        "id": "9RdZGQSz8jx5",
        "outputId": "1bb1043c-8b52-4b89-f680-91fafba1b519"
      },
      "source": [
        "twitter_df.isnull().sum(axis=0)                                # Check for NULL values."
      ],
      "execution_count": null,
      "outputs": [
        {
          "output_type": "execute_result",
          "data": {
            "text/plain": [
              "airline_sentiment    0\n",
              "text                 0\n",
              "dtype: int64"
            ]
          },
          "metadata": {
            "tags": []
          },
          "execution_count": 11
        }
      ]
    },
    {
      "cell_type": "code",
      "metadata": {
        "colab": {
          "base_uri": "https://localhost:8080/"
        },
        "id": "fIKZlUb211hZ",
        "outputId": "a8a45e2b-9325-49f9-c953-7c1029629eea"
      },
      "source": [
        "twitter_df.info()"
      ],
      "execution_count": null,
      "outputs": [
        {
          "output_type": "stream",
          "text": [
            "<class 'pandas.core.frame.DataFrame'>\n",
            "RangeIndex: 14640 entries, 0 to 14639\n",
            "Data columns (total 2 columns):\n",
            " #   Column             Non-Null Count  Dtype \n",
            "---  ------             --------------  ----- \n",
            " 0   airline_sentiment  14640 non-null  object\n",
            " 1   text               14640 non-null  object\n",
            "dtypes: object(2)\n",
            "memory usage: 228.9+ KB\n"
          ],
          "name": "stdout"
        }
      ]
    },
    {
      "cell_type": "code",
      "metadata": {
        "colab": {
          "base_uri": "https://localhost:8080/",
          "height": 221
        },
        "id": "pWJpqMLm8oaV",
        "outputId": "2276a13e-4251-458b-e580-0ba0945c1a98"
      },
      "source": [
        "\n",
        "pd.set_option('display.max_colwidth', None) # Display full dataframe information (Non-turncated Text column.)\n",
        "\n",
        "twitter_df.head()                                 # Check first 5 rows of data"
      ],
      "execution_count": null,
      "outputs": [
        {
          "output_type": "execute_result",
          "data": {
            "text/html": [
              "<div>\n",
              "<style scoped>\n",
              "    .dataframe tbody tr th:only-of-type {\n",
              "        vertical-align: middle;\n",
              "    }\n",
              "\n",
              "    .dataframe tbody tr th {\n",
              "        vertical-align: top;\n",
              "    }\n",
              "\n",
              "    .dataframe thead th {\n",
              "        text-align: right;\n",
              "    }\n",
              "</style>\n",
              "<table border=\"1\" class=\"dataframe\">\n",
              "  <thead>\n",
              "    <tr style=\"text-align: right;\">\n",
              "      <th></th>\n",
              "      <th>airline_sentiment</th>\n",
              "      <th>text</th>\n",
              "    </tr>\n",
              "  </thead>\n",
              "  <tbody>\n",
              "    <tr>\n",
              "      <th>0</th>\n",
              "      <td>neutral</td>\n",
              "      <td>@VirginAmerica What @dhepburn said.</td>\n",
              "    </tr>\n",
              "    <tr>\n",
              "      <th>1</th>\n",
              "      <td>positive</td>\n",
              "      <td>@VirginAmerica plus you've added commercials to the experience... tacky.</td>\n",
              "    </tr>\n",
              "    <tr>\n",
              "      <th>2</th>\n",
              "      <td>neutral</td>\n",
              "      <td>@VirginAmerica I didn't today... Must mean I need to take another trip!</td>\n",
              "    </tr>\n",
              "    <tr>\n",
              "      <th>3</th>\n",
              "      <td>negative</td>\n",
              "      <td>@VirginAmerica it's really aggressive to blast obnoxious \"entertainment\" in your guests' faces &amp;amp; they have little recourse</td>\n",
              "    </tr>\n",
              "    <tr>\n",
              "      <th>4</th>\n",
              "      <td>negative</td>\n",
              "      <td>@VirginAmerica and it's a really big bad thing about it</td>\n",
              "    </tr>\n",
              "  </tbody>\n",
              "</table>\n",
              "</div>"
            ],
            "text/plain": [
              "  airline_sentiment                                                                                                                            text\n",
              "0           neutral                                                                                             @VirginAmerica What @dhepburn said.\n",
              "1          positive                                                        @VirginAmerica plus you've added commercials to the experience... tacky.\n",
              "2           neutral                                                         @VirginAmerica I didn't today... Must mean I need to take another trip!\n",
              "3          negative  @VirginAmerica it's really aggressive to blast obnoxious \"entertainment\" in your guests' faces &amp; they have little recourse\n",
              "4          negative                                                                         @VirginAmerica and it's a really big bad thing about it"
            ]
          },
          "metadata": {
            "tags": []
          },
          "execution_count": 13
        }
      ]
    },
    {
      "cell_type": "markdown",
      "metadata": {
        "id": "5TvtCg5IA82O"
      },
      "source": [
        "# **Data Pre-processing:** \n",
        "Removal of html tags. Replace contractions in string. (e.g. replace I'm --> I am) and so on.\n",
        "Remove numbers. Tokenization To remove Stopwords. Lemmatized data, NLTK library is used to tokenize words , remove stopwords and lemmatize the remaining words, convert upper case to lower, removal Html tag removal, Tokenization, Remove the numbers, Special Characters and Punctuations."
      ]
    },
    {
      "cell_type": "code",
      "metadata": {
        "colab": {
          "base_uri": "https://localhost:8080/",
          "height": 204
        },
        "id": "XuBMsXFR90Ra",
        "outputId": "42b7661e-dd79-4b1b-a1f6-5373300deddd"
      },
      "source": [
        "def strip_html(text):\n",
        "    soup = BeautifulSoup(text, \"html.parser\")\n",
        "    return soup.get_text()\n",
        "\n",
        "twitter_df['text'] = twitter_df['text'].apply(lambda x: strip_html(x))\n",
        "twitter_df.head()"
      ],
      "execution_count": null,
      "outputs": [
        {
          "output_type": "execute_result",
          "data": {
            "text/html": [
              "<div>\n",
              "<style scoped>\n",
              "    .dataframe tbody tr th:only-of-type {\n",
              "        vertical-align: middle;\n",
              "    }\n",
              "\n",
              "    .dataframe tbody tr th {\n",
              "        vertical-align: top;\n",
              "    }\n",
              "\n",
              "    .dataframe thead th {\n",
              "        text-align: right;\n",
              "    }\n",
              "</style>\n",
              "<table border=\"1\" class=\"dataframe\">\n",
              "  <thead>\n",
              "    <tr style=\"text-align: right;\">\n",
              "      <th></th>\n",
              "      <th>airline_sentiment</th>\n",
              "      <th>text</th>\n",
              "    </tr>\n",
              "  </thead>\n",
              "  <tbody>\n",
              "    <tr>\n",
              "      <th>0</th>\n",
              "      <td>neutral</td>\n",
              "      <td>@VirginAmerica What @dhepburn said.</td>\n",
              "    </tr>\n",
              "    <tr>\n",
              "      <th>1</th>\n",
              "      <td>positive</td>\n",
              "      <td>@VirginAmerica plus you've added commercials to the experience... tacky.</td>\n",
              "    </tr>\n",
              "    <tr>\n",
              "      <th>2</th>\n",
              "      <td>neutral</td>\n",
              "      <td>@VirginAmerica I didn't today... Must mean I need to take another trip!</td>\n",
              "    </tr>\n",
              "    <tr>\n",
              "      <th>3</th>\n",
              "      <td>negative</td>\n",
              "      <td>@VirginAmerica it's really aggressive to blast obnoxious \"entertainment\" in your guests' faces &amp; they have little recourse</td>\n",
              "    </tr>\n",
              "    <tr>\n",
              "      <th>4</th>\n",
              "      <td>negative</td>\n",
              "      <td>@VirginAmerica and it's a really big bad thing about it</td>\n",
              "    </tr>\n",
              "  </tbody>\n",
              "</table>\n",
              "</div>"
            ],
            "text/plain": [
              "  airline_sentiment                                                                                                                        text\n",
              "0           neutral                                                                                         @VirginAmerica What @dhepburn said.\n",
              "1          positive                                                    @VirginAmerica plus you've added commercials to the experience... tacky.\n",
              "2           neutral                                                     @VirginAmerica I didn't today... Must mean I need to take another trip!\n",
              "3          negative  @VirginAmerica it's really aggressive to blast obnoxious \"entertainment\" in your guests' faces & they have little recourse\n",
              "4          negative                                                                     @VirginAmerica and it's a really big bad thing about it"
            ]
          },
          "metadata": {
            "tags": []
          },
          "execution_count": 14
        }
      ]
    },
    {
      "cell_type": "code",
      "metadata": {
        "colab": {
          "base_uri": "https://localhost:8080/",
          "height": 204
        },
        "id": "XSFSfuIz-F2q",
        "outputId": "5c7a0b47-b94e-4ee1-999a-44d21f106776"
      },
      "source": [
        "def replace_contractions(text):\n",
        "    \"\"\"Replace contractions in string of text\"\"\"\n",
        "    return contractions.fix(text)\n",
        "\n",
        "twitter_df['text'] = twitter_df['text'].apply(lambda x: replace_contractions(x))\n",
        "twitter_df.head()"
      ],
      "execution_count": null,
      "outputs": [
        {
          "output_type": "execute_result",
          "data": {
            "text/html": [
              "<div>\n",
              "<style scoped>\n",
              "    .dataframe tbody tr th:only-of-type {\n",
              "        vertical-align: middle;\n",
              "    }\n",
              "\n",
              "    .dataframe tbody tr th {\n",
              "        vertical-align: top;\n",
              "    }\n",
              "\n",
              "    .dataframe thead th {\n",
              "        text-align: right;\n",
              "    }\n",
              "</style>\n",
              "<table border=\"1\" class=\"dataframe\">\n",
              "  <thead>\n",
              "    <tr style=\"text-align: right;\">\n",
              "      <th></th>\n",
              "      <th>airline_sentiment</th>\n",
              "      <th>text</th>\n",
              "    </tr>\n",
              "  </thead>\n",
              "  <tbody>\n",
              "    <tr>\n",
              "      <th>0</th>\n",
              "      <td>neutral</td>\n",
              "      <td>@VirginAmerica What @dhepburn said.</td>\n",
              "    </tr>\n",
              "    <tr>\n",
              "      <th>1</th>\n",
              "      <td>positive</td>\n",
              "      <td>@VirginAmerica plus you have added commercials to the experience... tacky.</td>\n",
              "    </tr>\n",
              "    <tr>\n",
              "      <th>2</th>\n",
              "      <td>neutral</td>\n",
              "      <td>@VirginAmerica I did not today... Must mean I need to take another trip!</td>\n",
              "    </tr>\n",
              "    <tr>\n",
              "      <th>3</th>\n",
              "      <td>negative</td>\n",
              "      <td>@VirginAmerica it is really aggressive to blast obnoxious \"entertainment\" in your guests' faces &amp; they have little recourse</td>\n",
              "    </tr>\n",
              "    <tr>\n",
              "      <th>4</th>\n",
              "      <td>negative</td>\n",
              "      <td>@VirginAmerica and it is a really big bad thing about it</td>\n",
              "    </tr>\n",
              "  </tbody>\n",
              "</table>\n",
              "</div>"
            ],
            "text/plain": [
              "  airline_sentiment                                                                                                                         text\n",
              "0           neutral                                                                                          @VirginAmerica What @dhepburn said.\n",
              "1          positive                                                   @VirginAmerica plus you have added commercials to the experience... tacky.\n",
              "2           neutral                                                     @VirginAmerica I did not today... Must mean I need to take another trip!\n",
              "3          negative  @VirginAmerica it is really aggressive to blast obnoxious \"entertainment\" in your guests' faces & they have little recourse\n",
              "4          negative                                                                     @VirginAmerica and it is a really big bad thing about it"
            ]
          },
          "metadata": {
            "tags": []
          },
          "execution_count": 15
        }
      ]
    },
    {
      "cell_type": "code",
      "metadata": {
        "colab": {
          "base_uri": "https://localhost:8080/",
          "height": 204
        },
        "id": "VVMNTEdl-Qq5",
        "outputId": "b1c048bc-e941-48cc-91f6-0aa9daf35378"
      },
      "source": [
        "def remove_numbers(text):\n",
        "  text = re.sub(r'\\d+', '', text)\n",
        "  return text\n",
        "\n",
        "twitter_df['text'] = twitter_df['text'].apply(lambda x: remove_numbers(x))\n",
        "twitter_df.head()\n",
        "\n",
        "# Why remove numbers here - based on problem statement as numbers arent useful for Sentiment Analysis"
      ],
      "execution_count": null,
      "outputs": [
        {
          "output_type": "execute_result",
          "data": {
            "text/html": [
              "<div>\n",
              "<style scoped>\n",
              "    .dataframe tbody tr th:only-of-type {\n",
              "        vertical-align: middle;\n",
              "    }\n",
              "\n",
              "    .dataframe tbody tr th {\n",
              "        vertical-align: top;\n",
              "    }\n",
              "\n",
              "    .dataframe thead th {\n",
              "        text-align: right;\n",
              "    }\n",
              "</style>\n",
              "<table border=\"1\" class=\"dataframe\">\n",
              "  <thead>\n",
              "    <tr style=\"text-align: right;\">\n",
              "      <th></th>\n",
              "      <th>airline_sentiment</th>\n",
              "      <th>text</th>\n",
              "    </tr>\n",
              "  </thead>\n",
              "  <tbody>\n",
              "    <tr>\n",
              "      <th>0</th>\n",
              "      <td>neutral</td>\n",
              "      <td>@VirginAmerica What @dhepburn said.</td>\n",
              "    </tr>\n",
              "    <tr>\n",
              "      <th>1</th>\n",
              "      <td>positive</td>\n",
              "      <td>@VirginAmerica plus you have added commercials to the experience... tacky.</td>\n",
              "    </tr>\n",
              "    <tr>\n",
              "      <th>2</th>\n",
              "      <td>neutral</td>\n",
              "      <td>@VirginAmerica I did not today... Must mean I need to take another trip!</td>\n",
              "    </tr>\n",
              "    <tr>\n",
              "      <th>3</th>\n",
              "      <td>negative</td>\n",
              "      <td>@VirginAmerica it is really aggressive to blast obnoxious \"entertainment\" in your guests' faces &amp; they have little recourse</td>\n",
              "    </tr>\n",
              "    <tr>\n",
              "      <th>4</th>\n",
              "      <td>negative</td>\n",
              "      <td>@VirginAmerica and it is a really big bad thing about it</td>\n",
              "    </tr>\n",
              "  </tbody>\n",
              "</table>\n",
              "</div>"
            ],
            "text/plain": [
              "  airline_sentiment                                                                                                                         text\n",
              "0           neutral                                                                                          @VirginAmerica What @dhepburn said.\n",
              "1          positive                                                   @VirginAmerica plus you have added commercials to the experience... tacky.\n",
              "2           neutral                                                     @VirginAmerica I did not today... Must mean I need to take another trip!\n",
              "3          negative  @VirginAmerica it is really aggressive to blast obnoxious \"entertainment\" in your guests' faces & they have little recourse\n",
              "4          negative                                                                     @VirginAmerica and it is a really big bad thing about it"
            ]
          },
          "metadata": {
            "tags": []
          },
          "execution_count": 16
        }
      ]
    },
    {
      "cell_type": "code",
      "metadata": {
        "id": "modlayXA-bJl"
      },
      "source": [
        "# Tokenization each word in the text of data\n",
        "twitter_df['text'] = twitter_df.apply(lambda row: nltk.word_tokenize(row['text']), axis=1) "
      ],
      "execution_count": null,
      "outputs": []
    },
    {
      "cell_type": "code",
      "metadata": {
        "colab": {
          "base_uri": "https://localhost:8080/",
          "height": 221
        },
        "id": "U7m0PwAd-pCZ",
        "outputId": "e6ce0ef8-8fe7-49d8-b96c-d390ad814e96"
      },
      "source": [
        "twitter_df.head()"
      ],
      "execution_count": null,
      "outputs": [
        {
          "output_type": "execute_result",
          "data": {
            "text/html": [
              "<div>\n",
              "<style scoped>\n",
              "    .dataframe tbody tr th:only-of-type {\n",
              "        vertical-align: middle;\n",
              "    }\n",
              "\n",
              "    .dataframe tbody tr th {\n",
              "        vertical-align: top;\n",
              "    }\n",
              "\n",
              "    .dataframe thead th {\n",
              "        text-align: right;\n",
              "    }\n",
              "</style>\n",
              "<table border=\"1\" class=\"dataframe\">\n",
              "  <thead>\n",
              "    <tr style=\"text-align: right;\">\n",
              "      <th></th>\n",
              "      <th>airline_sentiment</th>\n",
              "      <th>text</th>\n",
              "    </tr>\n",
              "  </thead>\n",
              "  <tbody>\n",
              "    <tr>\n",
              "      <th>0</th>\n",
              "      <td>neutral</td>\n",
              "      <td>[@, VirginAmerica, What, @, dhepburn, said, .]</td>\n",
              "    </tr>\n",
              "    <tr>\n",
              "      <th>1</th>\n",
              "      <td>positive</td>\n",
              "      <td>[@, VirginAmerica, plus, you, have, added, commercials, to, the, experience, ..., tacky, .]</td>\n",
              "    </tr>\n",
              "    <tr>\n",
              "      <th>2</th>\n",
              "      <td>neutral</td>\n",
              "      <td>[@, VirginAmerica, I, did, not, today, ..., Must, mean, I, need, to, take, another, trip, !]</td>\n",
              "    </tr>\n",
              "    <tr>\n",
              "      <th>3</th>\n",
              "      <td>negative</td>\n",
              "      <td>[@, VirginAmerica, it, is, really, aggressive, to, blast, obnoxious, ``, entertainment, '', in, your, guests, ', faces, &amp;, they, have, little, recourse]</td>\n",
              "    </tr>\n",
              "    <tr>\n",
              "      <th>4</th>\n",
              "      <td>negative</td>\n",
              "      <td>[@, VirginAmerica, and, it, is, a, really, big, bad, thing, about, it]</td>\n",
              "    </tr>\n",
              "  </tbody>\n",
              "</table>\n",
              "</div>"
            ],
            "text/plain": [
              "  airline_sentiment                                                                                                                                                      text\n",
              "0           neutral                                                                                                            [@, VirginAmerica, What, @, dhepburn, said, .]\n",
              "1          positive                                                               [@, VirginAmerica, plus, you, have, added, commercials, to, the, experience, ..., tacky, .]\n",
              "2           neutral                                                              [@, VirginAmerica, I, did, not, today, ..., Must, mean, I, need, to, take, another, trip, !]\n",
              "3          negative  [@, VirginAmerica, it, is, really, aggressive, to, blast, obnoxious, ``, entertainment, '', in, your, guests, ', faces, &, they, have, little, recourse]\n",
              "4          negative                                                                                    [@, VirginAmerica, and, it, is, a, really, big, bad, thing, about, it]"
            ]
          },
          "metadata": {
            "tags": []
          },
          "execution_count": 18
        }
      ]
    },
    {
      "cell_type": "code",
      "metadata": {
        "id": "bk7CarDV-yjB"
      },
      "source": [
        "stopwords = stopwords.words('english')\n",
        "\n",
        "customlist = ['not', \"couldn't\", 'didn', \"didn't\", 'doesn', \"doesn't\", 'hadn', \"hadn't\", 'hasn',\n",
        "        \"hasn't\", 'haven', \"haven't\", 'isn', \"isn't\", 'ma', 'mightn', \"mightn't\", 'mustn',\n",
        "        \"mustn't\", 'needn', \"needn't\", 'shan', \"shan't\", 'shouldn', \"shouldn't\", 'wasn',\n",
        "        \"wasn't\", 'weren', \"weren't\", 'won', \"won't\", 'wouldn', \"wouldn't\"]\n",
        "\n",
        "# Set custom stop-word's list as not, couldn't etc. words matter in Sentiment, so not removing them from original data.\n",
        "\n",
        "stopwords = list(set(stopwords) - set(customlist))           \n",
        "# Extra stop words beyond nltk that we want to leverage, Use set operations to reduce stop words -> or add as well."
      ],
      "execution_count": null,
      "outputs": []
    },
    {
      "cell_type": "code",
      "metadata": {
        "colab": {
          "base_uri": "https://localhost:8080/",
          "height": 204
        },
        "id": "qhFQeOMT_7jM",
        "outputId": "a156f447-e608-4951-f466-820276d43283"
      },
      "source": [
        "lemmatizer = WordNetLemmatizer()\n",
        "\n",
        "def remove_non_ascii(words):\n",
        "    \"\"\"Remove non-ASCII characters from list of tokenized words\"\"\"\n",
        "    new_words = []\n",
        "    for word in words:\n",
        "        new_word = unicodedata.normalize('NFKD', word).encode('ascii', 'ignore').decode('utf-8', 'ignore')\n",
        "        new_words.append(new_word)\n",
        "    return new_words\n",
        "\n",
        "def to_lowercase(words):\n",
        "    \"\"\"Convert all characters to lowercase from list of tokenized words\"\"\"\n",
        "    new_words = []\n",
        "    for word in words:\n",
        "        new_word = word.lower()\n",
        "        new_words.append(new_word)\n",
        "    return new_words\n",
        "\n",
        "def remove_punctuation(words):\n",
        "    \"\"\"Remove punctuation from list of tokenized words\"\"\"\n",
        "    new_words = []\n",
        "    for word in words:\n",
        "        new_word = re.sub(r'[^\\w\\s]', '', word)\n",
        "        if new_word != '':\n",
        "            new_words.append(new_word)\n",
        "    return new_words\n",
        "\n",
        "def remove_stopwords(words):\n",
        "    \"\"\"Remove stop words from list of tokenized words\"\"\"\n",
        "    new_words = []\n",
        "    for word in words:\n",
        "        if word not in stopwords:\n",
        "            new_words.append(word)\n",
        "    return new_words\n",
        "\n",
        "def lemmatize_list(words):\n",
        "    new_words = []\n",
        "    for word in words:\n",
        "      new_words.append(lemmatizer.lemmatize(word, pos='v'))\n",
        "    return new_words\n",
        "\n",
        "def normalize(words):\n",
        "    words = remove_non_ascii(words)\n",
        "    words = to_lowercase(words)\n",
        "    words = remove_punctuation(words)\n",
        "    words = remove_stopwords(words)\n",
        "    words = lemmatize_list(words)\n",
        "    return ' '.join(words)\n",
        "\n",
        "twitter_df['text'] = twitter_df.apply(lambda row: normalize(row['text']), axis=1)\n",
        "twitter_df.head()\n"
      ],
      "execution_count": null,
      "outputs": [
        {
          "output_type": "execute_result",
          "data": {
            "text/html": [
              "<div>\n",
              "<style scoped>\n",
              "    .dataframe tbody tr th:only-of-type {\n",
              "        vertical-align: middle;\n",
              "    }\n",
              "\n",
              "    .dataframe tbody tr th {\n",
              "        vertical-align: top;\n",
              "    }\n",
              "\n",
              "    .dataframe thead th {\n",
              "        text-align: right;\n",
              "    }\n",
              "</style>\n",
              "<table border=\"1\" class=\"dataframe\">\n",
              "  <thead>\n",
              "    <tr style=\"text-align: right;\">\n",
              "      <th></th>\n",
              "      <th>airline_sentiment</th>\n",
              "      <th>text</th>\n",
              "    </tr>\n",
              "  </thead>\n",
              "  <tbody>\n",
              "    <tr>\n",
              "      <th>0</th>\n",
              "      <td>neutral</td>\n",
              "      <td>virginamerica dhepburn say</td>\n",
              "    </tr>\n",
              "    <tr>\n",
              "      <th>1</th>\n",
              "      <td>positive</td>\n",
              "      <td>virginamerica plus add commercials experience tacky</td>\n",
              "    </tr>\n",
              "    <tr>\n",
              "      <th>2</th>\n",
              "      <td>neutral</td>\n",
              "      <td>virginamerica not today must mean need take another trip</td>\n",
              "    </tr>\n",
              "    <tr>\n",
              "      <th>3</th>\n",
              "      <td>negative</td>\n",
              "      <td>virginamerica really aggressive blast obnoxious entertainment guests face little recourse</td>\n",
              "    </tr>\n",
              "    <tr>\n",
              "      <th>4</th>\n",
              "      <td>negative</td>\n",
              "      <td>virginamerica really big bad thing</td>\n",
              "    </tr>\n",
              "  </tbody>\n",
              "</table>\n",
              "</div>"
            ],
            "text/plain": [
              "  airline_sentiment                                                                                       text\n",
              "0           neutral                                                                 virginamerica dhepburn say\n",
              "1          positive                                        virginamerica plus add commercials experience tacky\n",
              "2           neutral                                   virginamerica not today must mean need take another trip\n",
              "3          negative  virginamerica really aggressive blast obnoxious entertainment guests face little recourse\n",
              "4          negative                                                         virginamerica really big bad thing"
            ]
          },
          "metadata": {
            "tags": []
          },
          "execution_count": 20
        }
      ]
    },
    {
      "cell_type": "code",
      "metadata": {
        "id": "Rhz072fMB4y_",
        "colab": {
          "base_uri": "https://localhost:8080/"
        },
        "outputId": "94badff8-78c5-4567-94c4-5c44d00637d7"
      },
      "source": [
        "data_features_text = np.array(twitter_df[\"text\"])   \n",
        "data_features_text"
      ],
      "execution_count": null,
      "outputs": [
        {
          "output_type": "execute_result",
          "data": {
            "text/plain": [
              "array(['virginamerica dhepburn say',\n",
              "       'virginamerica plus add commercials experience tacky',\n",
              "       'virginamerica not today must mean need take another trip', ...,\n",
              "       'americanair please bring american airlines blackberry',\n",
              "       'americanair money change flight not answer phone suggestions make commitment',\n",
              "       'americanair ppl need know many seat next flight plz put us standby people next flight'],\n",
              "      dtype=object)"
            ]
          },
          "metadata": {
            "tags": []
          },
          "execution_count": 21
        }
      ]
    },
    {
      "cell_type": "code",
      "metadata": {
        "colab": {
          "base_uri": "https://localhost:8080/"
        },
        "id": "XZAQoB-91Fto",
        "outputId": "18f57c57-cab8-4b3f-bff1-7433f36f4e9e"
      },
      "source": [
        "twitter_df.info()"
      ],
      "execution_count": null,
      "outputs": [
        {
          "output_type": "stream",
          "text": [
            "<class 'pandas.core.frame.DataFrame'>\n",
            "RangeIndex: 14640 entries, 0 to 14639\n",
            "Data columns (total 2 columns):\n",
            " #   Column             Non-Null Count  Dtype \n",
            "---  ------             --------------  ----- \n",
            " 0   airline_sentiment  14640 non-null  object\n",
            " 1   text               14640 non-null  object\n",
            "dtypes: object(2)\n",
            "memory usage: 228.9+ KB\n"
          ],
          "name": "stdout"
        }
      ]
    },
    {
      "cell_type": "code",
      "metadata": {
        "id": "sD4EkUmp1qws"
      },
      "source": [
        "labels = twitter_df['airline_sentiment']\n"
      ],
      "execution_count": null,
      "outputs": []
    },
    {
      "cell_type": "code",
      "metadata": {
        "colab": {
          "base_uri": "https://localhost:8080/"
        },
        "id": "H2_Yz3Tj16Og",
        "outputId": "e656d191-c0ea-41aa-b830-8216aca3f103"
      },
      "source": [
        "twitter_df.shape"
      ],
      "execution_count": null,
      "outputs": [
        {
          "output_type": "execute_result",
          "data": {
            "text/plain": [
              "(14640, 2)"
            ]
          },
          "metadata": {
            "tags": []
          },
          "execution_count": 24
        }
      ]
    },
    {
      "cell_type": "code",
      "metadata": {
        "id": "VaDYzftcB_HX"
      },
      "source": [
        "# Split data into training and testing set.\n",
        "\n",
        "from sklearn.model_selection import train_test_split\n",
        "X_train, X_test, y_train, y_test = train_test_split(data_features_text, labels, test_size=0.2, random_state=42,stratify=labels)"
      ],
      "execution_count": null,
      "outputs": []
    },
    {
      "cell_type": "code",
      "metadata": {
        "colab": {
          "base_uri": "https://localhost:8080/"
        },
        "id": "XgcheG1eCENL",
        "outputId": "84c0f8c1-46ea-48d7-b76d-ace3800c3941"
      },
      "source": [
        "y_train.value_counts()\n",
        "\n",
        "# Data is more skewed towards negative sentiments"
      ],
      "execution_count": null,
      "outputs": [
        {
          "output_type": "execute_result",
          "data": {
            "text/plain": [
              "negative    7342\n",
              "neutral     2479\n",
              "positive    1891\n",
              "Name: airline_sentiment, dtype: int64"
            ]
          },
          "metadata": {
            "tags": []
          },
          "execution_count": 50
        }
      ]
    },
    {
      "cell_type": "code",
      "metadata": {
        "colab": {
          "base_uri": "https://localhost:8080/",
          "height": 297
        },
        "id": "8H6ChFls-K4f",
        "outputId": "45cc9956-ccc5-411a-f231-14a3ac335406"
      },
      "source": [
        "sns.countplot(x=\"airline_sentiment\", data=twitter_df,hue=\"airline_sentiment\")"
      ],
      "execution_count": null,
      "outputs": [
        {
          "output_type": "execute_result",
          "data": {
            "text/plain": [
              "<matplotlib.axes._subplots.AxesSubplot at 0x7f56b91a7990>"
            ]
          },
          "metadata": {
            "tags": []
          },
          "execution_count": 32
        },
        {
          "output_type": "display_data",
          "data": {
            "image/png": "[encoded data removed]",
            "text/plain": [
              "<Figure size 432x288 with 1 Axes>"
            ]
          },
          "metadata": {
            "tags": [],
            "needs_background": "light"
          }
        }
      ]
    },
    {
      "cell_type": "code",
      "metadata": {
        "id": "-Rb8XUdm-0af"
      },
      "source": [
        "#import imblearn library\n",
        "#from imblearn.over_sampling import SMOTENC\n",
        "#oversample = SMOTENC(categorical_features=['neutral', 'positive', 'negative'], random_state = 100)\n",
        "#X_train= X_train.reshape(-1, 1)\n",
        "#y_train= y_train.reshape(-1, 1)\n",
        "\n",
        "#X_train, y_train = oversample.fit_resample(X_train, y_train)"
      ],
      "execution_count": null,
      "outputs": []
    },
    {
      "cell_type": "code",
      "metadata": {
        "colab": {
          "base_uri": "https://localhost:8080/",
          "height": 35
        },
        "id": "iPbIqna4CNFp",
        "outputId": "55b89877-b25f-4f30-f88f-468114de1f6c"
      },
      "source": [
        "X_train[5]"
      ],
      "execution_count": null,
      "outputs": [
        {
          "output_type": "execute_result",
          "data": {
            "application/vnd.google.colaboratory.intrinsic+json": {
              "type": "string"
            },
            "text/plain": [
              "'americanair pay accommodations ones cancel flightling reason know say lie weather'"
            ]
          },
          "metadata": {
            "tags": []
          },
          "execution_count": 42
        }
      ]
    },
    {
      "cell_type": "code",
      "metadata": {
        "colab": {
          "base_uri": "https://localhost:8080/",
          "height": 35
        },
        "id": "CF-EjjirCq6b",
        "outputId": "ca275b99-ae05-4ba5-f8ff-75e1143db799"
      },
      "source": [
        "y_train.iloc[5]"
      ],
      "execution_count": null,
      "outputs": [
        {
          "output_type": "execute_result",
          "data": {
            "application/vnd.google.colaboratory.intrinsic+json": {
              "type": "string"
            },
            "text/plain": [
              "'negative'"
            ]
          },
          "metadata": {
            "tags": []
          },
          "execution_count": 48
        }
      ]
    },
    {
      "cell_type": "code",
      "metadata": {
        "colab": {
          "base_uri": "https://localhost:8080/"
        },
        "id": "CV6-dBJrCPET",
        "outputId": "7872a10a-c921-4da3-f565-fcff2f59e065"
      },
      "source": [
        "y_test.value_counts()"
      ],
      "execution_count": null,
      "outputs": [
        {
          "output_type": "execute_result",
          "data": {
            "text/plain": [
              "negative    1836\n",
              "neutral      620\n",
              "positive     472\n",
              "Name: airline_sentiment, dtype: int64"
            ]
          },
          "metadata": {
            "tags": []
          },
          "execution_count": 51
        }
      ]
    },
    {
      "cell_type": "code",
      "metadata": {
        "colab": {
          "base_uri": "https://localhost:8080/"
        },
        "id": "cn9Tq_j2CXWJ",
        "outputId": "e6a85e66-6d20-483f-ace1-6d990e38d255"
      },
      "source": [
        "\n",
        "print(X_train.shape)\n",
        "print(y_train.shape)"
      ],
      "execution_count": null,
      "outputs": [
        {
          "output_type": "stream",
          "text": [
            "(11712,)\n",
            "(11712,)\n"
          ],
          "name": "stdout"
        }
      ]
    },
    {
      "cell_type": "code",
      "metadata": {
        "colab": {
          "base_uri": "https://localhost:8080/"
        },
        "id": "Q1fkojDFCcCT",
        "outputId": "51d9ca60-7c64-44c9-c791-52d1c5372038"
      },
      "source": [
        "print(X_test.shape)\n",
        "print(y_test.shape)"
      ],
      "execution_count": null,
      "outputs": [
        {
          "output_type": "stream",
          "text": [
            "(2928,)\n",
            "(2928,)\n"
          ],
          "name": "stdout"
        }
      ]
    },
    {
      "cell_type": "code",
      "metadata": {
        "id": "0eVCCw8LCutJ"
      },
      "source": [
        "from sklearn.feature_extraction.text import CountVectorizer\n",
        "\n",
        "vectorizer = CountVectorizer(max_features=1000)                # Keep only 1000 features as number of features will increase the processing time.\n",
        "X_train_vec = vectorizer.fit_transform(X_train)\n",
        "\n"
      ],
      "execution_count": null,
      "outputs": []
    },
    {
      "cell_type": "code",
      "metadata": {
        "colab": {
          "base_uri": "https://localhost:8080/"
        },
        "id": "SIi3OcolCzy4",
        "outputId": "fce32f84-bc61-4174-afdb-a5ccb3f7d37e"
      },
      "source": [
        "vectorizer.get_feature_names()[:20]"
      ],
      "execution_count": null,
      "outputs": [
        {
          "output_type": "execute_result",
          "data": {
            "text/plain": [
              "['aa',\n",
              " 'able',\n",
              " 'absolute',\n",
              " 'absolutely',\n",
              " 'accept',\n",
              " 'acceptable',\n",
              " 'access',\n",
              " 'accommodate',\n",
              " 'account',\n",
              " 'act',\n",
              " 'actual',\n",
              " 'actually',\n",
              " 'add',\n",
              " 'address',\n",
              " 'advisory',\n",
              " 'afternoon',\n",
              " 'agent',\n",
              " 'agents',\n",
              " 'ago',\n",
              " 'ahead']"
            ]
          },
          "metadata": {
            "tags": []
          },
          "execution_count": 69
        }
      ]
    },
    {
      "cell_type": "code",
      "metadata": {
        "colab": {
          "base_uri": "https://localhost:8080/"
        },
        "id": "75FjSmyqC6GO",
        "outputId": "e3b9cc14-140e-4e1e-dbab-a64200f915fa"
      },
      "source": [
        "\n",
        "# Using Random Forest to build model for the classification of reviews.\n",
        "# Also calculating the cross validation score.\n",
        "\n",
        "from sklearn.ensemble import RandomForestClassifier\n",
        "from sklearn.model_selection import cross_val_score\n",
        "\n",
        "forest = RandomForestClassifier(n_estimators=10, n_jobs=4)\n",
        "\n",
        "forest = forest.fit(X_train_vec, y_train)\n",
        "\n",
        "print(forest)"
      ],
      "execution_count": null,
      "outputs": [
        {
          "output_type": "stream",
          "text": [
            "RandomForestClassifier(bootstrap=True, ccp_alpha=0.0, class_weight=None,\n",
            "                       criterion='gini', max_depth=None, max_features='auto',\n",
            "                       max_leaf_nodes=None, max_samples=None,\n",
            "                       min_impurity_decrease=0.0, min_impurity_split=None,\n",
            "                       min_samples_leaf=1, min_samples_split=2,\n",
            "                       min_weight_fraction_leaf=0.0, n_estimators=10, n_jobs=4,\n",
            "                       oob_score=False, random_state=None, verbose=0,\n",
            "                       warm_start=False)\n"
          ],
          "name": "stdout"
        }
      ]
    },
    {
      "cell_type": "code",
      "metadata": {
        "colab": {
          "base_uri": "https://localhost:8080/"
        },
        "id": "e8wjvVJqDAdB",
        "outputId": "26d9e5d2-c607-4343-e4a1-6e8b2ec49044"
      },
      "source": [
        "print(np.mean(cross_val_score(forest, X_train_vec, y_train, cv=10)))"
      ],
      "execution_count": null,
      "outputs": [
        {
          "output_type": "stream",
          "text": [
            "0.7443640102243348\n"
          ],
          "name": "stdout"
        }
      ]
    },
    {
      "cell_type": "code",
      "metadata": {
        "id": "0DMvP7MTDFH6",
        "colab": {
          "base_uri": "https://localhost:8080/"
        },
        "outputId": "7dc93a34-87fb-4399-c94f-5db0e8d1ef53"
      },
      "source": [
        "# Predict the result for test data using the model built above.\n",
        "X_test_vec = vectorizer.fit_transform(X_test)\n",
        "result = forest.predict(X_test_vec)\n",
        "result\n"
      ],
      "execution_count": null,
      "outputs": [
        {
          "output_type": "execute_result",
          "data": {
            "text/plain": [
              "array(['negative', 'positive', 'negative', ..., 'neutral', 'positive',\n",
              "       'positive'], dtype=object)"
            ]
          },
          "metadata": {
            "tags": []
          },
          "execution_count": 72
        }
      ]
    },
    {
      "cell_type": "code",
      "metadata": {
        "colab": {
          "base_uri": "https://localhost:8080/"
        },
        "id": "R-a7RPh76jk-",
        "outputId": "9ed9932f-c902-4209-e0f4-e93436ab4788"
      },
      "source": [
        "print('Accuracy on Test Data Set',sum(result == y_test) / len(y_test))"
      ],
      "execution_count": null,
      "outputs": [
        {
          "output_type": "stream",
          "text": [
            "Accuracy on Test Data Set 0.4822404371584699\n"
          ],
          "name": "stdout"
        }
      ]
    },
    {
      "cell_type": "code",
      "metadata": {
        "colab": {
          "base_uri": "https://localhost:8080/",
          "height": 496
        },
        "id": "c_H562FLDPuV",
        "outputId": "2bc7b3f2-362d-44e7-9b89-1886eb091376"
      },
      "source": [
        "# Print and plot Confusion matirx to get an idea of how the distribution of the prediction is, among all the classes.\n",
        "\n",
        "import matplotlib.pyplot as plt\n",
        "import seaborn as sns\n",
        "from sklearn.metrics import confusion_matrix\n",
        "\n",
        "conf_mat = confusion_matrix(y_test, result)\n",
        "\n",
        "print(conf_mat)\n",
        "\n",
        "df_cm = pd.DataFrame(conf_mat, index = [i for i in ('neutral','positive','negative')],\n",
        "                  columns = [i for i in ('neutral','positive','negative')])\n",
        "plt.figure(figsize = (10,7))\n",
        "sns.heatmap(df_cm, annot=True, fmt='g')"
      ],
      "execution_count": null,
      "outputs": [
        {
          "output_type": "stream",
          "text": [
            "[[996 684 156]\n",
            " [296 284  40]\n",
            " [195 145 132]]\n"
          ],
          "name": "stdout"
        },
        {
          "output_type": "execute_result",
          "data": {
            "text/plain": [
              "<matplotlib.axes._subplots.AxesSubplot at 0x7f56b958b350>"
            ]
          },
          "metadata": {
            "tags": []
          },
          "execution_count": 74
        },
        {
          "output_type": "display_data",
          "data": {
            "image/png": "[encoded data removed]",
            "text/plain": [
              "<Figure size 720x504 with 2 Axes>"
            ]
          },
          "metadata": {
            "tags": [],
            "needs_background": "light"
          }
        }
      ]
    },
    {
      "cell_type": "code",
      "metadata": {
        "colab": {
          "base_uri": "https://localhost:8080/"
        },
        "id": "W9TLjRFsrZzl",
        "outputId": "7e1f84b5-2570-476b-993b-2eff3a8512dc"
      },
      "source": [
        "\n",
        "# Using LogisticRegression to build model for the classification of reviews.\n",
        "# Also calculating the cross validation score.\n",
        "\n",
        "\n",
        "from sklearn.linear_model import LogisticRegression\n",
        "from sklearn.model_selection import cross_val_score\n",
        "\n",
        "logreg = LogisticRegression(random_state=7,max_iter=1000)\n",
        "\n",
        "logreg = logreg.fit(X_train_vec, y_train)\n",
        "\n",
        "print(logreg)"
      ],
      "execution_count": null,
      "outputs": [
        {
          "output_type": "stream",
          "text": [
            "LogisticRegression(C=1.0, class_weight=None, dual=False, fit_intercept=True,\n",
            "                   intercept_scaling=1, l1_ratio=None, max_iter=1000,\n",
            "                   multi_class='auto', n_jobs=None, penalty='l2',\n",
            "                   random_state=7, solver='lbfgs', tol=0.0001, verbose=0,\n",
            "                   warm_start=False)\n"
          ],
          "name": "stdout"
        }
      ]
    },
    {
      "cell_type": "code",
      "metadata": {
        "colab": {
          "base_uri": "https://localhost:8080/"
        },
        "id": "v_MfcePXrGdr",
        "outputId": "4babb03e-98b0-414c-8dac-e997e1b3e674"
      },
      "source": [
        "print(np.mean(cross_val_score(logreg, X_train_vec, y_train, cv=10)))"
      ],
      "execution_count": null,
      "outputs": [
        {
          "output_type": "stream",
          "text": [
            "0.7857735869403648\n"
          ],
          "name": "stdout"
        }
      ]
    },
    {
      "cell_type": "code",
      "metadata": {
        "colab": {
          "base_uri": "https://localhost:8080/"
        },
        "id": "q1DAh92OrGM_",
        "outputId": "882a1246-cdaa-4ad0-d867-92e0cb6eaa65"
      },
      "source": [
        "# Predict the result for test data using the model built above.\n",
        "X_test_vec = vectorizer.fit_transform(X_test)\n",
        "result = logreg.predict(X_test_vec)\n",
        "result\n"
      ],
      "execution_count": null,
      "outputs": [
        {
          "output_type": "execute_result",
          "data": {
            "text/plain": [
              "array(['negative', 'positive', 'negative', ..., 'negative', 'positive',\n",
              "       'negative'], dtype=object)"
            ]
          },
          "metadata": {
            "tags": []
          },
          "execution_count": 77
        }
      ]
    },
    {
      "cell_type": "code",
      "metadata": {
        "colab": {
          "base_uri": "https://localhost:8080/"
        },
        "id": "2HcJIwAO7TmV",
        "outputId": "72691fd9-0534-45cf-c407-a71a22d0c8ad"
      },
      "source": [
        "print('Accuracy on Test Data Set',sum(result == y_test) / len(y_test))"
      ],
      "execution_count": null,
      "outputs": [
        {
          "output_type": "stream",
          "text": [
            "Accuracy on Test Data Set 0.5556693989071039\n"
          ],
          "name": "stdout"
        }
      ]
    },
    {
      "cell_type": "code",
      "metadata": {
        "colab": {
          "base_uri": "https://localhost:8080/",
          "height": 496
        },
        "id": "5dPpjGMNrF56",
        "outputId": "e1936102-3cc7-4a8d-8ed4-8ba3b82b401b"
      },
      "source": [
        "# Print and plot Confusion matirx to get an idea of how the distribution of the prediction is, among all the classes.\n",
        "\n",
        "import matplotlib.pyplot as plt\n",
        "import seaborn as sns\n",
        "from sklearn.metrics import confusion_matrix\n",
        "\n",
        "conf_mat = confusion_matrix(y_test, result)\n",
        "\n",
        "print(conf_mat)\n",
        "\n",
        "df_cm = pd.DataFrame(conf_mat, index = [i for i in ('neutral','positive','negative')],\n",
        "                  columns = [i for i in ('neutral','positive','negative')])\n",
        "plt.figure(figsize = (10,7))\n",
        "sns.heatmap(df_cm, annot=True, fmt='g')"
      ],
      "execution_count": null,
      "outputs": [
        {
          "output_type": "stream",
          "text": [
            "[[1369  173  294]\n",
            " [ 423  105   92]\n",
            " [ 276   43  153]]\n"
          ],
          "name": "stdout"
        },
        {
          "output_type": "execute_result",
          "data": {
            "text/plain": [
              "<matplotlib.axes._subplots.AxesSubplot at 0x7f56b9deded0>"
            ]
          },
          "metadata": {
            "tags": []
          },
          "execution_count": 79
        },
        {
          "output_type": "display_data",
          "data": {
            "image/png": "[encoded data removed]",
            "text/plain": [
              "<Figure size 720x504 with 2 Axes>"
            ]
          },
          "metadata": {
            "tags": [],
            "needs_background": "light"
          }
        }
      ]
    },
    {
      "cell_type": "code",
      "metadata": {
        "id": "cZnZU815DFFL"
      },
      "source": [
        "# Using TfidfVectorizer to convert text data to numbers.\n",
        "\n",
        "from sklearn.feature_extraction.text import TfidfVectorizer\n",
        "\n",
        "vectorizer_tfidf = TfidfVectorizer(max_features=1000, ngram_range=(1, 2))\n",
        "X_train_tfidf = vectorizer_tfidf.fit_transform(X_train)"
      ],
      "execution_count": null,
      "outputs": []
    },
    {
      "cell_type": "code",
      "metadata": {
        "colab": {
          "base_uri": "https://localhost:8080/"
        },
        "id": "a1SxczAsEL62",
        "outputId": "1f1f2b60-1ee3-4a3c-f093-0301783bbe84"
      },
      "source": [
        "\n",
        "# Using Random Forest to build model for the classification of reviews.\n",
        "# Also calculating the cross validation score.\n",
        "\n",
        "from sklearn.ensemble import RandomForestClassifier\n",
        "from sklearn.model_selection import cross_val_score\n",
        "\n",
        "import numpy as np\n",
        "\n",
        "forest = RandomForestClassifier(n_estimators=10, n_jobs=4)\n",
        "\n",
        "forest = forest.fit(X_train_tfidf, y_train)\n",
        "\n",
        "print(forest)\n",
        "RndmFrst_tfidf = np.mean(cross_val_score(forest, X_train_tfidf, y_train, cv=10))\n",
        "\n",
        "print(\"Randomforest with tfidf Accuracywith train data: \", RndmFrst_tfidf)"
      ],
      "execution_count": null,
      "outputs": [
        {
          "output_type": "stream",
          "text": [
            "RandomForestClassifier(bootstrap=True, ccp_alpha=0.0, class_weight=None,\n",
            "                       criterion='gini', max_depth=None, max_features='auto',\n",
            "                       max_leaf_nodes=None, max_samples=None,\n",
            "                       min_impurity_decrease=0.0, min_impurity_split=None,\n",
            "                       min_samples_leaf=1, min_samples_split=2,\n",
            "                       min_weight_fraction_leaf=0.0, n_estimators=10, n_jobs=4,\n",
            "                       oob_score=False, random_state=None, verbose=0,\n",
            "                       warm_start=False)\n",
            "Randomforest with tfidf Accuracywith train data:  0.7468395059209625\n"
          ],
          "name": "stdout"
        }
      ]
    },
    {
      "cell_type": "code",
      "metadata": {
        "id": "x1INwyPdESaw"
      },
      "source": [
        "X_test_tfidf = vectorizer_tfidf.fit_transform(X_test)\n",
        "result = forest.predict(X_test_tfidf)"
      ],
      "execution_count": null,
      "outputs": []
    },
    {
      "cell_type": "code",
      "metadata": {
        "colab": {
          "base_uri": "https://localhost:8080/"
        },
        "id": "o7X-Jx0mEWGO",
        "outputId": "e6a499d8-04f9-4f11-fe27-cb67c083b6f4"
      },
      "source": [
        "print('Accuracy on Test Data Set',sum(result == y_test) / len(y_test))"
      ],
      "execution_count": null,
      "outputs": [
        {
          "output_type": "stream",
          "text": [
            "Accuracy on Test Data Set 0.5365437158469946\n"
          ],
          "name": "stdout"
        }
      ]
    },
    {
      "cell_type": "code",
      "metadata": {
        "colab": {
          "base_uri": "https://localhost:8080/",
          "height": 445
        },
        "id": "82DOj40CEpKP",
        "outputId": "9b0349c3-6254-4aa2-90f4-34726efa9c52"
      },
      "source": [
        "\n",
        "import matplotlib.pyplot as plt\n",
        "import seaborn as sns\n",
        "from sklearn.metrics import confusion_matrix\n",
        "\n",
        "conf_mat = confusion_matrix(y_test, result)\n",
        "\n",
        "df_cm = pd.DataFrame(conf_mat, index = [i for i in ('neutral','positive','negative')],\n",
        "                  columns = [i for i in ('neutral','positive','negative')])\n",
        "plt.figure(figsize = (10,7))\n",
        "sns.heatmap(df_cm, annot=True, fmt='g')\n",
        "# Model performs best at 5s and worst at 0s - error analysis to see why negative sentiment words arent being picked up"
      ],
      "execution_count": null,
      "outputs": [
        {
          "output_type": "execute_result",
          "data": {
            "text/plain": [
              "<matplotlib.axes._subplots.AxesSubplot at 0x7f56b9ff9a50>"
            ]
          },
          "metadata": {
            "tags": []
          },
          "execution_count": 85
        },
        {
          "output_type": "display_data",
          "data": {
            "image/png": "[encoded data removed]",
            "text/plain": [
              "<Figure size 720x504 with 2 Axes>"
            ]
          },
          "metadata": {
            "tags": [],
            "needs_background": "light"
          }
        }
      ]
    },
    {
      "cell_type": "code",
      "metadata": {
        "colab": {
          "base_uri": "https://localhost:8080/"
        },
        "id": "Jw8ESEkQqWJ8",
        "outputId": "4ca06d4b-6e2f-442d-a250-e497e64d0068"
      },
      "source": [
        "from sklearn.ensemble import RandomForestClassifier\n",
        "from sklearn.model_selection import cross_val_score\n",
        "\n",
        "import numpy as np\n",
        "\n",
        "logreg = LogisticRegression(random_state=7,max_iter=1000)\n",
        "\n",
        "logreg = logreg.fit(X_train_tfidf, y_train)\n",
        "\n",
        "print(logreg)\n",
        "\n",
        "print(\"LogisticReg Accuracy on Train data:\",(np.mean(cross_val_score(logreg, X_train_tfidf, y_train, cv=10))))"
      ],
      "execution_count": null,
      "outputs": [
        {
          "output_type": "stream",
          "text": [
            "LogisticRegression(C=1.0, class_weight=None, dual=False, fit_intercept=True,\n",
            "                   intercept_scaling=1, l1_ratio=None, max_iter=1000,\n",
            "                   multi_class='auto', n_jobs=None, penalty='l2',\n",
            "                   random_state=7, solver='lbfgs', tol=0.0001, verbose=0,\n",
            "                   warm_start=False)\n",
            "LogisticReg Accuracy on Train data: 0.782445650431503\n"
          ],
          "name": "stdout"
        }
      ]
    },
    {
      "cell_type": "code",
      "metadata": {
        "id": "vq3s6WTm9mQx"
      },
      "source": [
        "X_test_tfidf = vectorizer_tfidf.fit_transform(X_test)\n",
        "result = logreg.predict(X_test_tfidf)"
      ],
      "execution_count": null,
      "outputs": []
    },
    {
      "cell_type": "code",
      "metadata": {
        "colab": {
          "base_uri": "https://localhost:8080/"
        },
        "id": "HuYJDRqF9sEm",
        "outputId": "a4476f27-1080-4892-d227-0081b59b48ad"
      },
      "source": [
        "print('Accuracy on Test Data Set',sum(result == y_test) / len(y_test))"
      ],
      "execution_count": null,
      "outputs": [
        {
          "output_type": "stream",
          "text": [
            "Accuracy on Test Data Set 0.5782103825136612\n"
          ],
          "name": "stdout"
        }
      ]
    },
    {
      "cell_type": "code",
      "metadata": {
        "colab": {
          "base_uri": "https://localhost:8080/",
          "height": 445
        },
        "id": "RHKrHgr195xh",
        "outputId": "69381a91-2d7e-46e7-b849-8ca180ca4ad3"
      },
      "source": [
        "\n",
        "import matplotlib.pyplot as plt\n",
        "import seaborn as sns\n",
        "from sklearn.metrics import confusion_matrix\n",
        "\n",
        "conf_mat = confusion_matrix(y_test, result)\n",
        "\n",
        "df_cm = pd.DataFrame(conf_mat, index = [i for i in ('neutral','positive','negative')],\n",
        "                  columns = [i for i in ('neutral','positive','negative')])\n",
        "plt.figure(figsize = (10,7))\n",
        "sns.heatmap(df_cm, annot=True, fmt='g')"
      ],
      "execution_count": null,
      "outputs": [
        {
          "output_type": "execute_result",
          "data": {
            "text/plain": [
              "<matplotlib.axes._subplots.AxesSubplot at 0x7f56b91ed490>"
            ]
          },
          "metadata": {
            "tags": []
          },
          "execution_count": 89
        },
        {
          "output_type": "display_data",
          "data": {
            "image/png": "[encoded data removed]",
            "text/plain": [
              "<Figure size 720x504 with 2 Axes>"
            ]
          },
          "metadata": {
            "tags": [],
            "needs_background": "light"
          }
        }
      ]
    },
    {
      "cell_type": "code",
      "metadata": {
        "id": "pNbu_Rx0E7yn"
      },
      "source": [
        "# Deep Neural Network with Word Embeddings layer\n",
        "import tensorflow as tf\n",
        "from tensorflow.keras.preprocessing.text import Tokenizer\n",
        "from tensorflow.keras.preprocessing.sequence import pad_sequences"
      ],
      "execution_count": null,
      "outputs": []
    },
    {
      "cell_type": "code",
      "metadata": {
        "colab": {
          "base_uri": "https://localhost:8080/"
        },
        "id": "9Rfp6DMCFAKq",
        "outputId": "eed85faf-b3ee-4f29-ac63-76ef8dd2019d"
      },
      "source": [
        "\n",
        "length = 0\n",
        "for i in range(0,len(X_train)):\n",
        "  length = length + len(X_train[i])\n",
        "print('Avg Length of Sequences',length/X_train.shape[0])"
      ],
      "execution_count": null,
      "outputs": [
        {
          "output_type": "stream",
          "text": [
            "Avg Length of Sequences 66.76886953551913\n"
          ],
          "name": "stdout"
        }
      ]
    },
    {
      "cell_type": "code",
      "metadata": {
        "id": "aDOdTKyxGIgc"
      },
      "source": [
        "from sklearn.preprocessing import LabelBinarizer\n",
        "from sklearn.metrics import accuracy_score, confusion_matrix, precision_score, recall_score, f1_score\n",
        "enc = LabelBinarizer()\n",
        "y_train = enc.fit_transform(y_train)\n",
        "y_test = enc.fit_transform(y_test)"
      ],
      "execution_count": null,
      "outputs": []
    },
    {
      "cell_type": "code",
      "metadata": {
        "id": "bsLV2IVJFG90"
      },
      "source": [
        "from keras.preprocessing.text import Tokenizer\n",
        "from keras.preprocessing.sequence import pad_sequences\n",
        "embedding_dim = 16\n",
        "max_length = 100\n",
        "trunc_type='post'\n",
        "oov_tok = \"<OOV>\"\n",
        "\n",
        "tokenizer = Tokenizer(num_words = 50000,oov_token=oov_tok)  # Keras Tokenizer\n",
        "tokenizer.fit_on_texts(X_train)\n",
        "\n",
        "vocab_size = len(tokenizer.word_index) + 1\n",
        "\n",
        "word_index = tokenizer.word_index\n",
        "X_train_tokenize = tokenizer.texts_to_sequences(X_train)\n",
        "padded = pad_sequences(X_train_tokenize,maxlen=max_length,truncating=trunc_type, padding='post')\n",
        "\n",
        "X_test_tokenize = tokenizer.texts_to_sequences(X_test)\n",
        "testing_padded = pad_sequences(X_test_tokenize,maxlen=max_length,truncating=trunc_type, padding='post')"
      ],
      "execution_count": null,
      "outputs": []
    },
    {
      "cell_type": "code",
      "metadata": {
        "colab": {
          "base_uri": "https://localhost:8080/"
        },
        "id": "o6yNYdgqFJGC",
        "outputId": "ed157535-2a80-4fa6-dd79-837fc9f242fd"
      },
      "source": [
        "#Vocab size\n",
        "len(tokenizer.word_index) + 1"
      ],
      "execution_count": null,
      "outputs": [
        {
          "output_type": "execute_result",
          "data": {
            "text/plain": [
              "10509"
            ]
          },
          "metadata": {
            "tags": []
          },
          "execution_count": 94
        }
      ]
    },
    {
      "cell_type": "code",
      "metadata": {
        "colab": {
          "base_uri": "https://localhost:8080/"
        },
        "id": "jfFg2ZnrFQsw",
        "outputId": "bf9678f6-7bf7-4e72-ec03-f5b2888664e1"
      },
      "source": [
        "#Padded sequence used as input to Keras Model\n",
        "print(X_train[2])\n",
        "print(X_train_tokenize[2])\n",
        "print(padded[2])"
      ],
      "execution_count": null,
      "outputs": [
        {
          "output_type": "stream",
          "text": [
            "unite flight cancel flightlations one due weather one mechanical pay hotel bag hold transfer vouchercompensation\n",
            "[3, 2, 12, 510, 33, 100, 71, 33, 356, 91, 160, 19, 25, 585, 4277]\n",
            "[   3    2   12  510   33  100   71   33  356   91  160   19   25  585\n",
            " 4277    0    0    0    0    0    0    0    0    0    0    0    0    0\n",
            "    0    0    0    0    0    0    0    0    0    0    0    0    0    0\n",
            "    0    0    0    0    0    0    0    0    0    0    0    0    0    0\n",
            "    0    0    0    0    0    0    0    0    0    0    0    0    0    0\n",
            "    0    0    0    0    0    0    0    0    0    0    0    0    0    0\n",
            "    0    0    0    0    0    0    0    0    0    0    0    0    0    0\n",
            "    0    0]\n"
          ],
          "name": "stdout"
        }
      ]
    },
    {
      "cell_type": "code",
      "metadata": {
        "colab": {
          "base_uri": "https://localhost:8080/"
        },
        "id": "M_TN5cFcFbuV",
        "outputId": "c6e2f2f1-95d2-451a-b902-614e8804e0f5"
      },
      "source": [
        "for word in ['good', 'nice', 'happy', 'sad', 'ok','super']:\n",
        "    print('{}: {}'.format(word, tokenizer.word_index[word]))"
      ],
      "execution_count": null,
      "outputs": [
        {
          "output_type": "stream",
          "text": [
            "good: 82\n",
            "nice: 197\n",
            "happy: 287\n",
            "sad: 626\n",
            "ok: 246\n",
            "super: 544\n"
          ],
          "name": "stdout"
        }
      ]
    },
    {
      "cell_type": "code",
      "metadata": {
        "id": "puF74gFrGYto"
      },
      "source": [
        "# Convert  multi-class labels to binary labels using LabelBinarizer\n",
        "# LabelBinarizer makes this process easy with the transform method.\n",
        "\n",
        "from sklearn.preprocessing import LabelBinarizer\n",
        "from sklearn.metrics import accuracy_score, confusion_matrix, precision_score, recall_score, f1_score\n",
        "enc = LabelBinarizer()\n",
        "y_train = enc.fit_transform(y_train)\n",
        "y_test = enc.fit_transform(y_test)"
      ],
      "execution_count": null,
      "outputs": []
    },
    {
      "cell_type": "code",
      "metadata": {
        "colab": {
          "base_uri": "https://localhost:8080/"
        },
        "id": "X1m2LLdI4rBf",
        "outputId": "b94a5c34-8599-4312-ef7e-e018a77542a5"
      },
      "source": [
        "print(y_train.shape)\n",
        "print(y_test.shape)"
      ],
      "execution_count": null,
      "outputs": [
        {
          "output_type": "stream",
          "text": [
            "(11712, 3)\n",
            "(2928, 3)\n"
          ],
          "name": "stdout"
        }
      ]
    },
    {
      "cell_type": "code",
      "metadata": {
        "colab": {
          "base_uri": "https://localhost:8080/"
        },
        "id": "aZ4uPQ6G4w8q",
        "outputId": "dbd88f38-2fc8-4291-fc55-e844bf3845da"
      },
      "source": [
        "y_train[2]"
      ],
      "execution_count": null,
      "outputs": [
        {
          "output_type": "execute_result",
          "data": {
            "text/plain": [
              "array([1, 0, 0], dtype=int64)"
            ]
          },
          "metadata": {
            "tags": []
          },
          "execution_count": 61
        }
      ]
    },
    {
      "cell_type": "code",
      "metadata": {
        "colab": {
          "base_uri": "https://localhost:8080/",
          "height": 142
        },
        "id": "eAkficvM431y",
        "outputId": "4f85bab7-bb3a-4f5b-f6ff-7dad1bdbe9a9"
      },
      "source": [
        "import pandas as pd\n",
        "from sklearn.preprocessing import OneHotEncoder\n",
        "#y = [[0], [1], [2], [3]]\n",
        "y = [0, 1, -1]\n",
        "#keras.utils.to_categorical(y)\n",
        "#ohe = OneHotEncoder()\n",
        "#ohe.fit_transform(y).toarray()\n",
        "pd.get_dummies(y)"
      ],
      "execution_count": null,
      "outputs": [
        {
          "output_type": "execute_result",
          "data": {
            "text/html": [
              "<div>\n",
              "<style scoped>\n",
              "    .dataframe tbody tr th:only-of-type {\n",
              "        vertical-align: middle;\n",
              "    }\n",
              "\n",
              "    .dataframe tbody tr th {\n",
              "        vertical-align: top;\n",
              "    }\n",
              "\n",
              "    .dataframe thead th {\n",
              "        text-align: right;\n",
              "    }\n",
              "</style>\n",
              "<table border=\"1\" class=\"dataframe\">\n",
              "  <thead>\n",
              "    <tr style=\"text-align: right;\">\n",
              "      <th></th>\n",
              "      <th>-1</th>\n",
              "      <th>0</th>\n",
              "      <th>1</th>\n",
              "    </tr>\n",
              "  </thead>\n",
              "  <tbody>\n",
              "    <tr>\n",
              "      <th>0</th>\n",
              "      <td>0</td>\n",
              "      <td>1</td>\n",
              "      <td>0</td>\n",
              "    </tr>\n",
              "    <tr>\n",
              "      <th>1</th>\n",
              "      <td>0</td>\n",
              "      <td>0</td>\n",
              "      <td>1</td>\n",
              "    </tr>\n",
              "    <tr>\n",
              "      <th>2</th>\n",
              "      <td>1</td>\n",
              "      <td>0</td>\n",
              "      <td>0</td>\n",
              "    </tr>\n",
              "  </tbody>\n",
              "</table>\n",
              "</div>"
            ],
            "text/plain": [
              "   -1   0   1\n",
              "0   0   1   0\n",
              "1   0   0   1\n",
              "2   1   0   0"
            ]
          },
          "metadata": {
            "tags": []
          },
          "execution_count": 98
        }
      ]
    },
    {
      "cell_type": "code",
      "metadata": {
        "id": "uVg24ayOFiTI",
        "colab": {
          "base_uri": "https://localhost:8080/"
        },
        "outputId": "9f6a80fd-0a2b-4425-8904-b15c00247437"
      },
      "source": [
        "#First Model - Word Embedding Vector with Dense Layers\n",
        "import tensorflow as tf\n",
        "\n",
        "model = tf.keras.Sequential()\n",
        "embedding_dim = 16\n",
        "model = tf.keras.Sequential([\n",
        "                             tf.keras.layers.Embedding(vocab_size,embedding_dim,input_length = max_length),\n",
        "                             tf.keras.layers.GlobalMaxPool1D(),\n",
        "                             tf.keras.layers.Dense(16,activation='relu'),\n",
        "                             tf.keras.layers.Dense(3,activation='softmax')\n",
        "])\n",
        "model.compile(loss='categorical_crossentropy',optimizer='adam',metrics=['accuracy'])\n",
        "model.summary()\n",
        "\n"
      ],
      "execution_count": null,
      "outputs": [
        {
          "output_type": "stream",
          "text": [
            "Model: \"sequential_1\"\n",
            "_________________________________________________________________\n",
            "Layer (type)                 Output Shape              Param #   \n",
            "=================================================================\n",
            "embedding (Embedding)        (None, 100, 16)           168144    \n",
            "_________________________________________________________________\n",
            "global_max_pooling1d (Global (None, 16)                0         \n",
            "_________________________________________________________________\n",
            "dense (Dense)                (None, 16)                272       \n",
            "_________________________________________________________________\n",
            "dense_1 (Dense)              (None, 3)                 51        \n",
            "=================================================================\n",
            "Total params: 168,467\n",
            "Trainable params: 168,467\n",
            "Non-trainable params: 0\n",
            "_________________________________________________________________\n"
          ],
          "name": "stdout"
        }
      ]
    },
    {
      "cell_type": "code",
      "metadata": {
        "id": "dILtyERe8ZWb",
        "colab": {
          "base_uri": "https://localhost:8080/",
          "height": 1000
        },
        "outputId": "57d277e7-5f70-465f-af3e-dcb00e016b01"
      },
      "source": [
        "num_epochs = 30\n",
        "history = model.fit(padded,y_train,epochs = num_epochs, validation_data=(testing_padded,y_test))\n",
        "\n",
        "plt.plot(history.history['accuracy'], label='accuracy')\n",
        "plt.plot(history.history['val_accuracy'], label = 'val_accuracy')\n",
        "plt.xlabel('Epoch')\n",
        "plt.ylabel('Accuracy')\n",
        "plt.ylim([0, 1])\n",
        "plt.legend(loc='lower right');"
      ],
      "execution_count": null,
      "outputs": [
        {
          "output_type": "stream",
          "text": [
            "Epoch 1/30\n",
            "366/366 [==============================] - 2s 4ms/step - loss: 0.9377 - accuracy: 0.6025 - val_loss: 0.6483 - val_accuracy: 0.7367\n",
            "Epoch 2/30\n",
            "366/366 [==============================] - 1s 3ms/step - loss: 0.5933 - accuracy: 0.7672 - val_loss: 0.5555 - val_accuracy: 0.7824\n",
            "Epoch 3/30\n",
            "366/366 [==============================] - 1s 3ms/step - loss: 0.4690 - accuracy: 0.8240 - val_loss: 0.5241 - val_accuracy: 0.7883\n",
            "Epoch 4/30\n",
            "366/366 [==============================] - 1s 3ms/step - loss: 0.3612 - accuracy: 0.8685 - val_loss: 0.5170 - val_accuracy: 0.7958\n",
            "Epoch 5/30\n",
            "366/366 [==============================] - 1s 3ms/step - loss: 0.2957 - accuracy: 0.8961 - val_loss: 0.5308 - val_accuracy: 0.7971\n",
            "Epoch 6/30\n",
            "366/366 [==============================] - 1s 3ms/step - loss: 0.2336 - accuracy: 0.9221 - val_loss: 0.5568 - val_accuracy: 0.7951\n",
            "Epoch 7/30\n",
            "366/366 [==============================] - 1s 3ms/step - loss: 0.1904 - accuracy: 0.9381 - val_loss: 0.5906 - val_accuracy: 0.7896\n",
            "Epoch 8/30\n",
            "366/366 [==============================] - 1s 4ms/step - loss: 0.1490 - accuracy: 0.9561 - val_loss: 0.6373 - val_accuracy: 0.7828\n",
            "Epoch 9/30\n",
            "366/366 [==============================] - 1s 4ms/step - loss: 0.1212 - accuracy: 0.9653 - val_loss: 0.6792 - val_accuracy: 0.7783\n",
            "Epoch 10/30\n",
            "366/366 [==============================] - 1s 3ms/step - loss: 0.0959 - accuracy: 0.9743 - val_loss: 0.7279 - val_accuracy: 0.7719\n",
            "Epoch 11/30\n",
            "366/366 [==============================] - 1s 4ms/step - loss: 0.0771 - accuracy: 0.9788 - val_loss: 0.7747 - val_accuracy: 0.7732\n",
            "Epoch 12/30\n",
            "366/366 [==============================] - 1s 4ms/step - loss: 0.0640 - accuracy: 0.9848 - val_loss: 0.8226 - val_accuracy: 0.7688\n",
            "Epoch 13/30\n",
            "366/366 [==============================] - 1s 4ms/step - loss: 0.0542 - accuracy: 0.9873 - val_loss: 0.8779 - val_accuracy: 0.7637\n",
            "Epoch 14/30\n",
            "366/366 [==============================] - 1s 3ms/step - loss: 0.0490 - accuracy: 0.9874 - val_loss: 0.9243 - val_accuracy: 0.7664\n",
            "Epoch 15/30\n",
            "366/366 [==============================] - 1s 3ms/step - loss: 0.0392 - accuracy: 0.9902 - val_loss: 0.9763 - val_accuracy: 0.7647\n",
            "Epoch 16/30\n",
            "366/366 [==============================] - 1s 3ms/step - loss: 0.0347 - accuracy: 0.9912 - val_loss: 1.0219 - val_accuracy: 0.7602\n",
            "Epoch 17/30\n",
            "366/366 [==============================] - 1s 3ms/step - loss: 0.0314 - accuracy: 0.9922 - val_loss: 1.0824 - val_accuracy: 0.7531\n",
            "Epoch 18/30\n",
            "366/366 [==============================] - 1s 3ms/step - loss: 0.0252 - accuracy: 0.9939 - val_loss: 1.1272 - val_accuracy: 0.7602\n",
            "Epoch 19/30\n",
            "366/366 [==============================] - 1s 3ms/step - loss: 0.0260 - accuracy: 0.9928 - val_loss: 1.1700 - val_accuracy: 0.7544\n",
            "Epoch 20/30\n",
            "366/366 [==============================] - 1s 4ms/step - loss: 0.0230 - accuracy: 0.9929 - val_loss: 1.2175 - val_accuracy: 0.7524\n",
            "Epoch 21/30\n",
            "366/366 [==============================] - 1s 3ms/step - loss: 0.0191 - accuracy: 0.9950 - val_loss: 1.2680 - val_accuracy: 0.7558\n",
            "Epoch 22/30\n",
            "366/366 [==============================] - 1s 3ms/step - loss: 0.0196 - accuracy: 0.9940 - val_loss: 1.3093 - val_accuracy: 0.7490\n",
            "Epoch 23/30\n",
            "366/366 [==============================] - 1s 3ms/step - loss: 0.0176 - accuracy: 0.9940 - val_loss: 1.3532 - val_accuracy: 0.7473\n",
            "Epoch 24/30\n",
            "366/366 [==============================] - 1s 3ms/step - loss: 0.0191 - accuracy: 0.9932 - val_loss: 1.3855 - val_accuracy: 0.7500\n",
            "Epoch 25/30\n",
            "366/366 [==============================] - 1s 3ms/step - loss: 0.0149 - accuracy: 0.9953 - val_loss: 1.4220 - val_accuracy: 0.7503\n",
            "Epoch 26/30\n",
            "366/366 [==============================] - 1s 4ms/step - loss: 0.0170 - accuracy: 0.9930 - val_loss: 1.4623 - val_accuracy: 0.7497\n",
            "Epoch 27/30\n",
            "366/366 [==============================] - 1s 4ms/step - loss: 0.0147 - accuracy: 0.9948 - val_loss: 1.4960 - val_accuracy: 0.7524\n",
            "Epoch 28/30\n",
            "366/366 [==============================] - 1s 4ms/step - loss: 0.0124 - accuracy: 0.9958 - val_loss: 1.5396 - val_accuracy: 0.7517\n",
            "Epoch 29/30\n",
            "366/366 [==============================] - 1s 3ms/step - loss: 0.0129 - accuracy: 0.9951 - val_loss: 1.5657 - val_accuracy: 0.7452\n",
            "Epoch 30/30\n",
            "366/366 [==============================] - 1s 3ms/step - loss: 0.0157 - accuracy: 0.9936 - val_loss: 1.5881 - val_accuracy: 0.7490\n"
          ],
          "name": "stdout"
        },
        {
          "output_type": "display_data",
          "data": {
            "image/png": "[encoded data removed]",
            "text/plain": [
              "<Figure size 432x288 with 1 Axes>"
            ]
          },
          "metadata": {
            "tags": [],
            "needs_background": "light"
          }
        }
      ]
    },
    {
      "cell_type": "code",
      "metadata": {
        "colab": {
          "base_uri": "https://localhost:8080/"
        },
        "id": "jQIZFx1cHHo7",
        "outputId": "b73b68eb-4751-44ff-f886-a9611188cc43"
      },
      "source": [
        "# Each word in Vocab with embedding vector\n",
        "e =model.layers[0]\n",
        "weights = e.get_weights()[0]\n",
        "print(weights.shape) #shape:(vocab_size,embedding_dim)"
      ],
      "execution_count": null,
      "outputs": [
        {
          "output_type": "stream",
          "text": [
            "(10509, 16)\n"
          ],
          "name": "stdout"
        }
      ]
    },
    {
      "cell_type": "code",
      "metadata": {
        "colab": {
          "base_uri": "https://localhost:8080/"
        },
        "id": "eWgcL9bAHNLW",
        "outputId": "27b6b107-dafb-40aa-cf78-d5c603f9ccf0"
      },
      "source": [
        "#Vector of 16 for each word\n",
        "weights[0]"
      ],
      "execution_count": null,
      "outputs": [
        {
          "output_type": "execute_result",
          "data": {
            "text/plain": [
              "array([-0.229036  , -0.2178464 , -0.23151651, -0.26220495, -0.41428173,\n",
              "       -0.25695625, -0.25225922, -0.31643337, -0.3269577 , -0.30512244,\n",
              "       -0.3063345 , -0.369803  , -0.23793647, -0.33177096, -0.28968564,\n",
              "       -0.3096736 ], dtype=float32)"
            ]
          },
          "metadata": {
            "tags": []
          },
          "execution_count": 102
        }
      ]
    },
    {
      "cell_type": "code",
      "metadata": {
        "id": "Pi9sTTK5HRtm"
      },
      "source": [
        "\n",
        "## Model using Pretrained Embedding Weights - Glove Method\n",
        "\n",
        "def create_embedding_matrix(filepath, word_index, embedding_dim):\n",
        "    vocab_size = len(word_index) + 1  # Adding again 1 because of reserved 0 index\n",
        "    embedding_matrix = np.zeros((vocab_size, embedding_dim))\n",
        "\n",
        "    with open(filepath) as f:\n",
        "        for line in f:\n",
        "            word, *vector = line.split()\n",
        "            if word in word_index:\n",
        "                idx = word_index[word] \n",
        "                embedding_matrix[idx] = np.array(\n",
        "                    vector, dtype=np.float32)[:embedding_dim]\n",
        "\n",
        "    return embedding_matrix"
      ],
      "execution_count": null,
      "outputs": []
    },
    {
      "cell_type": "code",
      "metadata": {
        "id": "UshBU35cO-03"
      },
      "source": [
        "# Extract the files from dataset, as the dataset is as zip file.\n",
        "\n",
        "# Extract the files from dataset to temp_train and temp_test folders (as the dataset is a zip file.)\n",
        "from zipfile import ZipFile\n",
        "with ZipFile('/content/drive/MyDrive/glove.6B.300d.txt.zip', 'r') as zip:\n",
        "  zip.extractall('/content/drive/MyDrive/Colab_Notebooks/glove')\n",
        "  zip.close()"
      ],
      "execution_count": null,
      "outputs": []
    },
    {
      "cell_type": "code",
      "metadata": {
        "id": "h2gSemw4HkCf"
      },
      "source": [
        "from keras.preprocessing.text import Tokenizer\n",
        "filepath = \"/content/drive/MyDrive/Colab_Notebooks/glove/glove.6B.300d.txt\"\n",
        "embedding_matrix = create_embedding_matrix(filepath,tokenizer.word_index, embedding_dim)"
      ],
      "execution_count": null,
      "outputs": []
    },
    {
      "cell_type": "code",
      "metadata": {
        "colab": {
          "base_uri": "https://localhost:8080/",
          "height": 1000
        },
        "id": "fLilbyjvHoQP",
        "outputId": "1e3c038c-2215-466e-f0ed-e40565cd9169"
      },
      "source": [
        "\n",
        "#Model 2 - Keras model with pretrained embedding vectors\n",
        "#The glove file can be obtained at https://github.com/stanfordnlp/GloVe\n",
        "embedding_dim = 16\n",
        "model_glove = tf.keras.Sequential([\n",
        "                             tf.keras.layers.Embedding(vocab_size,embedding_dim,weights=[embedding_matrix],input_length = max_length),\n",
        "                             tf.keras.layers.GlobalMaxPool1D(),\n",
        "                             tf.keras.layers.Dense(12,activation='relu'),\n",
        "                             tf.keras.layers.Dense(3,activation='softmax')\n",
        "])\n",
        "model_glove.compile(loss='categorical_crossentropy',optimizer='adam',metrics=['accuracy'])\n",
        "model_glove.summary()\n",
        "\n",
        "num_epochs = 30\n",
        "history_glove = model_glove.fit(padded,y_train,epochs = num_epochs,validation_data=(testing_padded,y_test))\n",
        "\n",
        "plt.plot(history_glove.history['accuracy'], label='accuracy')\n",
        "plt.plot(history_glove.history['val_accuracy'], label = 'val_accuracy')\n",
        "plt.xlabel('Epoch')\n",
        "plt.ylabel('Accuracy')\n",
        "plt.ylim([0, 1])\n",
        "plt.legend(loc='lower right');"
      ],
      "execution_count": null,
      "outputs": [
        {
          "output_type": "stream",
          "text": [
            "Model: \"sequential_2\"\n",
            "_________________________________________________________________\n",
            "Layer (type)                 Output Shape              Param #   \n",
            "=================================================================\n",
            "embedding_1 (Embedding)      (None, 100, 16)           168144    \n",
            "_________________________________________________________________\n",
            "global_max_pooling1d_1 (Glob (None, 16)                0         \n",
            "_________________________________________________________________\n",
            "dense_2 (Dense)              (None, 12)                204       \n",
            "_________________________________________________________________\n",
            "dense_3 (Dense)              (None, 3)                 39        \n",
            "=================================================================\n",
            "Total params: 168,387\n",
            "Trainable params: 168,387\n",
            "Non-trainable params: 0\n",
            "_________________________________________________________________\n",
            "Epoch 1/30\n",
            "366/366 [==============================] - 2s 4ms/step - loss: 0.9554 - accuracy: 0.5629 - val_loss: 0.8446 - val_accuracy: 0.6342\n",
            "Epoch 2/30\n",
            "366/366 [==============================] - 1s 3ms/step - loss: 0.8018 - accuracy: 0.6547 - val_loss: 0.7296 - val_accuracy: 0.7029\n",
            "Epoch 3/30\n",
            "366/366 [==============================] - 1s 3ms/step - loss: 0.6756 - accuracy: 0.7232 - val_loss: 0.6565 - val_accuracy: 0.7329\n",
            "Epoch 4/30\n",
            "366/366 [==============================] - 1s 3ms/step - loss: 0.5861 - accuracy: 0.7667 - val_loss: 0.6287 - val_accuracy: 0.7462\n",
            "Epoch 5/30\n",
            "366/366 [==============================] - 1s 3ms/step - loss: 0.5381 - accuracy: 0.7924 - val_loss: 0.6121 - val_accuracy: 0.7531\n",
            "Epoch 6/30\n",
            "366/366 [==============================] - 1s 3ms/step - loss: 0.4989 - accuracy: 0.8055 - val_loss: 0.6082 - val_accuracy: 0.7541\n",
            "Epoch 7/30\n",
            "366/366 [==============================] - 1s 3ms/step - loss: 0.4602 - accuracy: 0.8210 - val_loss: 0.6096 - val_accuracy: 0.7575\n",
            "Epoch 8/30\n",
            "366/366 [==============================] - 1s 3ms/step - loss: 0.4154 - accuracy: 0.8455 - val_loss: 0.6127 - val_accuracy: 0.7589\n",
            "Epoch 9/30\n",
            "366/366 [==============================] - 1s 3ms/step - loss: 0.4009 - accuracy: 0.8483 - val_loss: 0.6170 - val_accuracy: 0.7596\n",
            "Epoch 10/30\n",
            "366/366 [==============================] - 1s 3ms/step - loss: 0.3665 - accuracy: 0.8642 - val_loss: 0.6274 - val_accuracy: 0.7592\n",
            "Epoch 11/30\n",
            "366/366 [==============================] - 1s 3ms/step - loss: 0.3427 - accuracy: 0.8727 - val_loss: 0.6375 - val_accuracy: 0.7592\n",
            "Epoch 12/30\n",
            "366/366 [==============================] - 1s 3ms/step - loss: 0.3371 - accuracy: 0.8774 - val_loss: 0.6521 - val_accuracy: 0.7572\n",
            "Epoch 13/30\n",
            "366/366 [==============================] - 1s 4ms/step - loss: 0.3032 - accuracy: 0.8878 - val_loss: 0.6674 - val_accuracy: 0.7585\n",
            "Epoch 14/30\n",
            "366/366 [==============================] - 1s 3ms/step - loss: 0.2824 - accuracy: 0.8970 - val_loss: 0.6836 - val_accuracy: 0.7606\n",
            "Epoch 15/30\n",
            "366/366 [==============================] - 1s 3ms/step - loss: 0.2654 - accuracy: 0.9027 - val_loss: 0.7016 - val_accuracy: 0.7606\n",
            "Epoch 16/30\n",
            "366/366 [==============================] - 1s 3ms/step - loss: 0.2537 - accuracy: 0.9109 - val_loss: 0.7199 - val_accuracy: 0.7548\n",
            "Epoch 17/30\n",
            "366/366 [==============================] - 1s 3ms/step - loss: 0.2354 - accuracy: 0.9166 - val_loss: 0.7418 - val_accuracy: 0.7623\n",
            "Epoch 18/30\n",
            "366/366 [==============================] - 1s 3ms/step - loss: 0.2265 - accuracy: 0.9215 - val_loss: 0.7628 - val_accuracy: 0.7575\n",
            "Epoch 19/30\n",
            "366/366 [==============================] - 1s 3ms/step - loss: 0.2073 - accuracy: 0.9301 - val_loss: 0.7834 - val_accuracy: 0.7558\n",
            "Epoch 20/30\n",
            "366/366 [==============================] - 1s 3ms/step - loss: 0.2008 - accuracy: 0.9337 - val_loss: 0.8078 - val_accuracy: 0.7531\n",
            "Epoch 21/30\n",
            "366/366 [==============================] - 1s 3ms/step - loss: 0.1901 - accuracy: 0.9350 - val_loss: 0.8273 - val_accuracy: 0.7486\n",
            "Epoch 22/30\n",
            "366/366 [==============================] - 1s 3ms/step - loss: 0.1729 - accuracy: 0.9433 - val_loss: 0.8542 - val_accuracy: 0.7452\n",
            "Epoch 23/30\n",
            "366/366 [==============================] - 1s 3ms/step - loss: 0.1628 - accuracy: 0.9480 - val_loss: 0.8773 - val_accuracy: 0.7462\n",
            "Epoch 24/30\n",
            "366/366 [==============================] - 1s 3ms/step - loss: 0.1552 - accuracy: 0.9473 - val_loss: 0.9038 - val_accuracy: 0.7394\n",
            "Epoch 25/30\n",
            "366/366 [==============================] - 1s 3ms/step - loss: 0.1493 - accuracy: 0.9500 - val_loss: 0.9297 - val_accuracy: 0.7459\n",
            "Epoch 26/30\n",
            "366/366 [==============================] - 1s 4ms/step - loss: 0.1535 - accuracy: 0.9499 - val_loss: 0.9570 - val_accuracy: 0.7387\n",
            "Epoch 27/30\n",
            "366/366 [==============================] - 1s 3ms/step - loss: 0.1345 - accuracy: 0.9551 - val_loss: 0.9823 - val_accuracy: 0.7408\n",
            "Epoch 28/30\n",
            "366/366 [==============================] - 1s 4ms/step - loss: 0.1287 - accuracy: 0.9605 - val_loss: 1.0115 - val_accuracy: 0.7346\n",
            "Epoch 29/30\n",
            "366/366 [==============================] - 1s 4ms/step - loss: 0.1279 - accuracy: 0.9595 - val_loss: 1.0433 - val_accuracy: 0.7333\n",
            "Epoch 30/30\n",
            "366/366 [==============================] - 1s 3ms/step - loss: 0.1104 - accuracy: 0.9643 - val_loss: 1.0763 - val_accuracy: 0.7391\n"
          ],
          "name": "stdout"
        },
        {
          "output_type": "display_data",
          "data": {
            "image/png": "[encoded data removed]",
            "text/plain": [
              "<Figure size 432x288 with 1 Axes>"
            ]
          },
          "metadata": {
            "tags": [],
            "needs_background": "light"
          }
        }
      ]
    },
    {
      "cell_type": "code",
      "metadata": {
        "id": "axpbBrXkHydh",
        "colab": {
          "base_uri": "https://localhost:8080/"
        },
        "outputId": "78aafe84-4309-44dc-fbfa-5e38eb2cd22a"
      },
      "source": [
        "#Lof of word vectors in current Vocab not in Glove Pretrained vector list\n",
        "nonzero_elements = np.count_nonzero(np.count_nonzero(embedding_matrix, axis=1))\n",
        "print(nonzero_elements / vocab_size)"
      ],
      "execution_count": null,
      "outputs": [
        {
          "output_type": "stream",
          "text": [
            "0.627081549148349\n"
          ],
          "name": "stdout"
        }
      ]
    },
    {
      "cell_type": "code",
      "metadata": {
        "id": "JhWLhjPnH4D-",
        "colab": {
          "base_uri": "https://localhost:8080/",
          "height": 1000
        },
        "outputId": "801f4dc8-bf4d-4ecf-aeb2-c124a9ca8091"
      },
      "source": [
        "#Model using LSTM - No performance model using LSTM and other similar models\n",
        "model_lstm = tf.keras.Sequential([\n",
        "                             tf.keras.layers.Embedding(vocab_size,embedding_dim,input_length = max_length),\n",
        "                             tf.keras.layers.LSTM(16),\n",
        "                             tf.keras.layers.Dense(12,activation='relu'),\n",
        "                             tf.keras.layers.Dense(3,activation='softmax')\n",
        "])\n",
        "model_lstm.compile(loss='categorical_crossentropy',optimizer='adam',metrics=['accuracy'])\n",
        "model_lstm.summary()\n",
        "\n",
        "num_epochs = 40\n",
        "history_lstm = model_lstm.fit(padded,y_train,epochs = num_epochs,validation_data=(testing_padded,y_test))\n",
        "\n",
        "plt.plot(history_lstm.history['accuracy'], label='accuracy')\n",
        "plt.plot(history_lstm.history['val_accuracy'], label = 'val_accuracy')\n",
        "plt.xlabel('Epoch')\n",
        "plt.ylabel('Accuracy')\n",
        "plt.ylim([0, 1])\n",
        "plt.legend(loc='lower right');"
      ],
      "execution_count": null,
      "outputs": [
        {
          "output_type": "stream",
          "text": [
            "Model: \"sequential_3\"\n",
            "_________________________________________________________________\n",
            "Layer (type)                 Output Shape              Param #   \n",
            "=================================================================\n",
            "embedding_2 (Embedding)      (None, 100, 16)           168144    \n",
            "_________________________________________________________________\n",
            "lstm (LSTM)                  (None, 16)                2112      \n",
            "_________________________________________________________________\n",
            "dense_4 (Dense)              (None, 12)                204       \n",
            "_________________________________________________________________\n",
            "dense_5 (Dense)              (None, 3)                 39        \n",
            "=================================================================\n",
            "Total params: 170,499\n",
            "Trainable params: 170,499\n",
            "Non-trainable params: 0\n",
            "_________________________________________________________________\n",
            "Epoch 1/40\n",
            "366/366 [==============================] - 11s 25ms/step - loss: 0.9729 - accuracy: 0.6324 - val_loss: 0.9157 - val_accuracy: 0.6270\n",
            "Epoch 2/40\n",
            "366/366 [==============================] - 9s 25ms/step - loss: 0.9233 - accuracy: 0.6213 - val_loss: 0.9158 - val_accuracy: 0.6270\n",
            "Epoch 3/40\n",
            "366/366 [==============================] - 10s 26ms/step - loss: 0.9262 - accuracy: 0.6198 - val_loss: 0.9163 - val_accuracy: 0.6270\n",
            "Epoch 4/40\n",
            "366/366 [==============================] - 10s 26ms/step - loss: 0.9121 - accuracy: 0.6320 - val_loss: 0.9158 - val_accuracy: 0.6270\n",
            "Epoch 5/40\n",
            "366/366 [==============================] - 9s 26ms/step - loss: 0.9148 - accuracy: 0.6282 - val_loss: 0.9158 - val_accuracy: 0.6270\n",
            "Epoch 6/40\n",
            "366/366 [==============================] - 10s 26ms/step - loss: 0.9162 - accuracy: 0.6269 - val_loss: 0.9161 - val_accuracy: 0.6270\n",
            "Epoch 7/40\n",
            "366/366 [==============================] - 9s 26ms/step - loss: 0.9235 - accuracy: 0.6217 - val_loss: 0.9161 - val_accuracy: 0.6270\n",
            "Epoch 8/40\n",
            "366/366 [==============================] - 9s 26ms/step - loss: 0.9181 - accuracy: 0.6249 - val_loss: 0.9166 - val_accuracy: 0.6270\n",
            "Epoch 9/40\n",
            "366/366 [==============================] - 10s 26ms/step - loss: 0.9171 - accuracy: 0.6262 - val_loss: 0.9164 - val_accuracy: 0.6270\n",
            "Epoch 10/40\n",
            "366/366 [==============================] - 10s 26ms/step - loss: 0.9197 - accuracy: 0.6240 - val_loss: 0.9162 - val_accuracy: 0.6270\n",
            "Epoch 11/40\n",
            "366/366 [==============================] - 9s 26ms/step - loss: 0.9223 - accuracy: 0.6227 - val_loss: 0.9165 - val_accuracy: 0.6270\n",
            "Epoch 12/40\n",
            "366/366 [==============================] - 9s 26ms/step - loss: 0.9178 - accuracy: 0.6257 - val_loss: 0.9159 - val_accuracy: 0.6270\n",
            "Epoch 13/40\n",
            "366/366 [==============================] - 9s 26ms/step - loss: 0.9203 - accuracy: 0.6230 - val_loss: 0.9169 - val_accuracy: 0.6270\n",
            "Epoch 14/40\n",
            "366/366 [==============================] - 9s 26ms/step - loss: 0.9241 - accuracy: 0.6204 - val_loss: 0.9165 - val_accuracy: 0.6270\n",
            "Epoch 15/40\n",
            "366/366 [==============================] - 10s 26ms/step - loss: 0.9196 - accuracy: 0.6250 - val_loss: 0.9160 - val_accuracy: 0.6270\n",
            "Epoch 16/40\n",
            "366/366 [==============================] - 10s 26ms/step - loss: 0.9222 - accuracy: 0.6216 - val_loss: 0.9156 - val_accuracy: 0.6270\n",
            "Epoch 17/40\n",
            "366/366 [==============================] - 10s 26ms/step - loss: 0.9204 - accuracy: 0.6231 - val_loss: 0.9157 - val_accuracy: 0.6270\n",
            "Epoch 18/40\n",
            "366/366 [==============================] - 9s 26ms/step - loss: 0.9147 - accuracy: 0.6282 - val_loss: 0.9160 - val_accuracy: 0.6270\n",
            "Epoch 19/40\n",
            "366/366 [==============================] - 9s 26ms/step - loss: 0.9218 - accuracy: 0.6218 - val_loss: 0.9165 - val_accuracy: 0.6270\n",
            "Epoch 20/40\n",
            "366/366 [==============================] - 9s 25ms/step - loss: 0.9186 - accuracy: 0.6258 - val_loss: 0.9165 - val_accuracy: 0.6270\n",
            "Epoch 21/40\n",
            "366/366 [==============================] - 9s 26ms/step - loss: 0.9227 - accuracy: 0.6219 - val_loss: 0.9157 - val_accuracy: 0.6270\n",
            "Epoch 22/40\n",
            "366/366 [==============================] - 10s 26ms/step - loss: 0.9123 - accuracy: 0.6300 - val_loss: 0.9157 - val_accuracy: 0.6270\n",
            "Epoch 23/40\n",
            "366/366 [==============================] - 10s 26ms/step - loss: 0.9240 - accuracy: 0.6209 - val_loss: 0.9162 - val_accuracy: 0.6270\n",
            "Epoch 24/40\n",
            "366/366 [==============================] - 9s 26ms/step - loss: 0.9187 - accuracy: 0.6233 - val_loss: 0.9156 - val_accuracy: 0.6270\n",
            "Epoch 25/40\n",
            "366/366 [==============================] - 9s 26ms/step - loss: 0.9159 - accuracy: 0.6272 - val_loss: 0.9158 - val_accuracy: 0.6270\n",
            "Epoch 26/40\n",
            "366/366 [==============================] - 9s 26ms/step - loss: 0.9247 - accuracy: 0.6197 - val_loss: 0.9156 - val_accuracy: 0.6270\n",
            "Epoch 27/40\n",
            "366/366 [==============================] - 9s 26ms/step - loss: 0.9126 - accuracy: 0.6292 - val_loss: 0.9157 - val_accuracy: 0.6270\n",
            "Epoch 28/40\n",
            "366/366 [==============================] - 9s 26ms/step - loss: 0.9058 - accuracy: 0.6360 - val_loss: 0.9157 - val_accuracy: 0.6270\n",
            "Epoch 29/40\n",
            "366/366 [==============================] - 9s 26ms/step - loss: 0.9148 - accuracy: 0.6280 - val_loss: 0.9156 - val_accuracy: 0.6270\n",
            "Epoch 30/40\n",
            "366/366 [==============================] - 10s 26ms/step - loss: 0.9114 - accuracy: 0.6318 - val_loss: 0.9164 - val_accuracy: 0.6270\n",
            "Epoch 31/40\n",
            "366/366 [==============================] - 10s 26ms/step - loss: 0.9155 - accuracy: 0.6271 - val_loss: 0.9161 - val_accuracy: 0.6270\n",
            "Epoch 32/40\n",
            "366/366 [==============================] - 10s 26ms/step - loss: 0.9123 - accuracy: 0.6307 - val_loss: 0.9156 - val_accuracy: 0.6270\n",
            "Epoch 33/40\n",
            "366/366 [==============================] - 10s 26ms/step - loss: 0.9181 - accuracy: 0.6246 - val_loss: 0.9158 - val_accuracy: 0.6270\n",
            "Epoch 34/40\n",
            "366/366 [==============================] - 10s 26ms/step - loss: 0.9206 - accuracy: 0.6240 - val_loss: 0.9157 - val_accuracy: 0.6270\n",
            "Epoch 35/40\n",
            "366/366 [==============================] - 10s 26ms/step - loss: 0.9170 - accuracy: 0.6264 - val_loss: 0.9167 - val_accuracy: 0.6270\n",
            "Epoch 36/40\n",
            "366/366 [==============================] - 10s 26ms/step - loss: 0.9212 - accuracy: 0.6235 - val_loss: 0.9165 - val_accuracy: 0.6270\n",
            "Epoch 37/40\n",
            "366/366 [==============================] - 10s 26ms/step - loss: 0.9252 - accuracy: 0.6207 - val_loss: 0.9157 - val_accuracy: 0.6270\n",
            "Epoch 38/40\n",
            "366/366 [==============================] - 10s 26ms/step - loss: 0.9149 - accuracy: 0.6269 - val_loss: 0.9174 - val_accuracy: 0.6270\n",
            "Epoch 39/40\n",
            "366/366 [==============================] - 10s 26ms/step - loss: 0.9097 - accuracy: 0.6326 - val_loss: 0.9165 - val_accuracy: 0.6270\n",
            "Epoch 40/40\n",
            "366/366 [==============================] - 10s 26ms/step - loss: 0.9165 - accuracy: 0.6281 - val_loss: 0.9156 - val_accuracy: 0.6270\n"
          ],
          "name": "stdout"
        },
        {
          "output_type": "display_data",
          "data": {
            "image/png": "[encoded data removed]",
            "text/plain": [
              "<Figure size 432x288 with 1 Axes>"
            ]
          },
          "metadata": {
            "tags": [],
            "needs_background": "light"
          }
        }
      ]
    },
    {
      "cell_type": "code",
      "metadata": {
        "id": "Ixhv667HICbB",
        "colab": {
          "base_uri": "https://localhost:8080/",
          "height": 1000
        },
        "outputId": "efe5800f-729e-47db-c14d-93e90ec1978f"
      },
      "source": [
        "\n",
        "#Model using Bidirectional LSTM \n",
        "model_bilstm = tf.keras.Sequential([\n",
        "                             tf.keras.layers.Embedding(vocab_size,embedding_dim,input_length = max_length),\n",
        "                             tf.keras.layers.Bidirectional(tf.keras.layers.LSTM(32)),\n",
        "                             tf.keras.layers.Dense(12,activation='relu'),\n",
        "                             tf.keras.layers.Dense(3,activation='softmax')\n",
        "])\n",
        "model_bilstm.compile(loss='categorical_crossentropy',optimizer='Adagrad',metrics=['accuracy'])\n",
        "model_bilstm.summary()\n",
        "num_epochs = 40\n",
        "history_bilstm = model_lstm.fit(padded,y_train,epochs = num_epochs,validation_data=(testing_padded,y_test))\n",
        "\n",
        "plt.plot(history_bilstm.history['accuracy'], label='accuracy')\n",
        "plt.plot(history_bilstm.history['val_accuracy'], label = 'val_accuracy')\n",
        "plt.xlabel('Epoch')\n",
        "plt.ylabel('Accuracy')\n",
        "plt.ylim([0, 1])\n",
        "plt.legend(loc='lower right');"
      ],
      "execution_count": null,
      "outputs": [
        {
          "output_type": "stream",
          "text": [
            "Model: \"sequential_4\"\n",
            "_________________________________________________________________\n",
            "Layer (type)                 Output Shape              Param #   \n",
            "=================================================================\n",
            "embedding_4 (Embedding)      (None, 100, 16)           168144    \n",
            "_________________________________________________________________\n",
            "bidirectional_3 (Bidirection (None, 64)                12544     \n",
            "_________________________________________________________________\n",
            "dense_8 (Dense)              (None, 12)                780       \n",
            "_________________________________________________________________\n",
            "dense_9 (Dense)              (None, 3)                 39        \n",
            "=================================================================\n",
            "Total params: 181,507\n",
            "Trainable params: 181,507\n",
            "Non-trainable params: 0\n",
            "_________________________________________________________________\n",
            "Epoch 1/40\n",
            "366/366 [==============================] - 10s 26ms/step - loss: 0.9163 - accuracy: 0.6269 - val_loss: 0.9160 - val_accuracy: 0.6270\n",
            "Epoch 2/40\n",
            "366/366 [==============================] - 10s 26ms/step - loss: 0.9162 - accuracy: 0.6269 - val_loss: 0.9157 - val_accuracy: 0.6270\n",
            "Epoch 3/40\n",
            "366/366 [==============================] - 10s 26ms/step - loss: 0.9162 - accuracy: 0.6269 - val_loss: 0.9157 - val_accuracy: 0.6270\n",
            "Epoch 4/40\n",
            "366/366 [==============================] - 10s 27ms/step - loss: 0.9163 - accuracy: 0.6269 - val_loss: 0.9156 - val_accuracy: 0.6270\n",
            "Epoch 5/40\n",
            "366/366 [==============================] - 9s 26ms/step - loss: 0.9162 - accuracy: 0.6269 - val_loss: 0.9167 - val_accuracy: 0.6270\n",
            "Epoch 6/40\n",
            "366/366 [==============================] - 9s 26ms/step - loss: 0.9160 - accuracy: 0.6269 - val_loss: 0.9160 - val_accuracy: 0.6270\n",
            "Epoch 7/40\n",
            "366/366 [==============================] - 10s 26ms/step - loss: 0.9163 - accuracy: 0.6269 - val_loss: 0.9156 - val_accuracy: 0.6270\n",
            "Epoch 8/40\n",
            "366/366 [==============================] - 10s 26ms/step - loss: 0.9162 - accuracy: 0.6269 - val_loss: 0.9157 - val_accuracy: 0.6270\n",
            "Epoch 9/40\n",
            "366/366 [==============================] - 10s 27ms/step - loss: 0.9162 - accuracy: 0.6269 - val_loss: 0.9157 - val_accuracy: 0.6270\n",
            "Epoch 10/40\n",
            "366/366 [==============================] - 10s 26ms/step - loss: 0.9162 - accuracy: 0.6269 - val_loss: 0.9157 - val_accuracy: 0.6270\n",
            "Epoch 11/40\n",
            "366/366 [==============================] - 9s 26ms/step - loss: 0.9161 - accuracy: 0.6269 - val_loss: 0.9156 - val_accuracy: 0.6270\n",
            "Epoch 12/40\n",
            "366/366 [==============================] - 9s 26ms/step - loss: 0.9162 - accuracy: 0.6269 - val_loss: 0.9156 - val_accuracy: 0.6270\n",
            "Epoch 13/40\n",
            "366/366 [==============================] - 10s 26ms/step - loss: 0.9162 - accuracy: 0.6269 - val_loss: 0.9156 - val_accuracy: 0.6270\n",
            "Epoch 14/40\n",
            "366/366 [==============================] - 9s 26ms/step - loss: 0.9162 - accuracy: 0.6269 - val_loss: 0.9157 - val_accuracy: 0.6270\n",
            "Epoch 15/40\n",
            "366/366 [==============================] - 9s 26ms/step - loss: 0.9162 - accuracy: 0.6269 - val_loss: 0.9157 - val_accuracy: 0.6270\n",
            "Epoch 16/40\n",
            "366/366 [==============================] - 9s 26ms/step - loss: 0.9162 - accuracy: 0.6269 - val_loss: 0.9157 - val_accuracy: 0.6270\n",
            "Epoch 17/40\n",
            "366/366 [==============================] - 9s 26ms/step - loss: 0.9159 - accuracy: 0.6269 - val_loss: 0.9157 - val_accuracy: 0.6270\n",
            "Epoch 18/40\n",
            "366/366 [==============================] - 9s 26ms/step - loss: 0.9162 - accuracy: 0.6269 - val_loss: 0.9157 - val_accuracy: 0.6270\n",
            "Epoch 19/40\n",
            "366/366 [==============================] - 9s 26ms/step - loss: 0.9161 - accuracy: 0.6269 - val_loss: 0.9156 - val_accuracy: 0.6270\n",
            "Epoch 20/40\n",
            "366/366 [==============================] - 9s 26ms/step - loss: 0.9162 - accuracy: 0.6269 - val_loss: 0.9158 - val_accuracy: 0.6270\n",
            "Epoch 21/40\n",
            "366/366 [==============================] - 9s 26ms/step - loss: 0.9160 - accuracy: 0.6269 - val_loss: 0.9158 - val_accuracy: 0.6270\n",
            "Epoch 22/40\n",
            "366/366 [==============================] - 10s 26ms/step - loss: 0.9161 - accuracy: 0.6269 - val_loss: 0.9159 - val_accuracy: 0.6270\n",
            "Epoch 23/40\n",
            "366/366 [==============================] - 9s 26ms/step - loss: 0.9163 - accuracy: 0.6269 - val_loss: 0.9156 - val_accuracy: 0.6270\n",
            "Epoch 24/40\n",
            "366/366 [==============================] - 10s 26ms/step - loss: 0.9161 - accuracy: 0.6269 - val_loss: 0.9165 - val_accuracy: 0.6270\n",
            "Epoch 25/40\n",
            "366/366 [==============================] - 10s 26ms/step - loss: 0.9162 - accuracy: 0.6269 - val_loss: 0.9161 - val_accuracy: 0.6270\n",
            "Epoch 26/40\n",
            "366/366 [==============================] - 10s 26ms/step - loss: 0.9161 - accuracy: 0.6269 - val_loss: 0.9158 - val_accuracy: 0.6270\n",
            "Epoch 27/40\n",
            "366/366 [==============================] - 10s 26ms/step - loss: 0.9162 - accuracy: 0.6269 - val_loss: 0.9157 - val_accuracy: 0.6270\n",
            "Epoch 28/40\n",
            "366/366 [==============================] - 10s 26ms/step - loss: 0.9162 - accuracy: 0.6269 - val_loss: 0.9157 - val_accuracy: 0.6270\n",
            "Epoch 29/40\n",
            "366/366 [==============================] - 10s 26ms/step - loss: 0.9162 - accuracy: 0.6269 - val_loss: 0.9156 - val_accuracy: 0.6270\n",
            "Epoch 30/40\n",
            "366/366 [==============================] - 10s 26ms/step - loss: 0.9163 - accuracy: 0.6269 - val_loss: 0.9157 - val_accuracy: 0.6270\n",
            "Epoch 31/40\n",
            "366/366 [==============================] - 10s 27ms/step - loss: 0.9161 - accuracy: 0.6269 - val_loss: 0.9156 - val_accuracy: 0.6270\n",
            "Epoch 32/40\n",
            "366/366 [==============================] - 10s 26ms/step - loss: 0.9161 - accuracy: 0.6269 - val_loss: 0.9157 - val_accuracy: 0.6270\n",
            "Epoch 33/40\n",
            "366/366 [==============================] - 9s 26ms/step - loss: 0.9162 - accuracy: 0.6269 - val_loss: 0.9159 - val_accuracy: 0.6270\n",
            "Epoch 34/40\n",
            "366/366 [==============================] - 10s 27ms/step - loss: 0.9161 - accuracy: 0.6269 - val_loss: 0.9162 - val_accuracy: 0.6270\n",
            "Epoch 35/40\n",
            "366/366 [==============================] - 10s 26ms/step - loss: 0.9163 - accuracy: 0.6269 - val_loss: 0.9158 - val_accuracy: 0.6270\n",
            "Epoch 36/40\n",
            "366/366 [==============================] - 10s 26ms/step - loss: 0.9161 - accuracy: 0.6269 - val_loss: 0.9158 - val_accuracy: 0.6270\n",
            "Epoch 37/40\n",
            "366/366 [==============================] - 10s 26ms/step - loss: 0.9161 - accuracy: 0.6269 - val_loss: 0.9156 - val_accuracy: 0.6270\n",
            "Epoch 38/40\n",
            "366/366 [==============================] - 10s 26ms/step - loss: 0.9162 - accuracy: 0.6269 - val_loss: 0.9157 - val_accuracy: 0.6270\n",
            "Epoch 39/40\n",
            "366/366 [==============================] - 10s 26ms/step - loss: 0.9162 - accuracy: 0.6269 - val_loss: 0.9156 - val_accuracy: 0.6270\n",
            "Epoch 40/40\n",
            "366/366 [==============================] - 10s 26ms/step - loss: 0.9160 - accuracy: 0.6269 - val_loss: 0.9158 - val_accuracy: 0.6270\n"
          ],
          "name": "stdout"
        },
        {
          "output_type": "display_data",
          "data": {
            "image/png": "[encoded data removed]",
            "text/plain": [
              "<Figure size 432x288 with 1 Axes>"
            ]
          },
          "metadata": {
            "tags": [],
            "needs_background": "light"
          }
        }
      ]
    },
    {
      "cell_type": "code",
      "metadata": {
        "colab": {
          "base_uri": "https://localhost:8080/",
          "height": 949
        },
        "id": "TVOzgFy1IKMP",
        "outputId": "efc9aa90-a6c3-4f43-8d05-eab4c9236ef5"
      },
      "source": [
        "#Model using Conv1D & LSTM\n",
        "model_conv1d_lstm = tf.keras.Sequential([\n",
        "                             tf.keras.layers.Embedding(vocab_size,embedding_dim,input_length = max_length),\n",
        "                             tf.keras.layers.Conv1D(20, 6, activation='relu'), # 20 filters\n",
        "                             tf.keras.layers.LSTM(16),\n",
        "                             tf.keras.layers.Dense(12,activation='relu'),\n",
        "                             tf.keras.layers.Dense(3,activation='softmax')\n",
        "])\n",
        "model_conv1d_lstm.compile(loss='categorical_crossentropy',optimizer='adam',metrics=['accuracy'])\n",
        "model_conv1d_lstm.summary()\n",
        "\n",
        "num_epochs = 25\n",
        "history_conv1d_lstm = model_conv1d_lstm.fit(padded,y_train,epochs = num_epochs,validation_data=(testing_padded,y_test))\n",
        "\n",
        "plt.plot(history_conv1d_lstm.history['accuracy'], label='accuracy')\n",
        "plt.plot(history_conv1d_lstm.history['val_accuracy'], label = 'val_accuracy')\n",
        "plt.xlabel('Epoch')\n",
        "plt.ylabel('Accuracy')\n",
        "plt.ylim([0, 1])\n",
        "plt.legend(loc='lower right');"
      ],
      "execution_count": null,
      "outputs": [
        {
          "output_type": "stream",
          "text": [
            "Model: \"sequential_8\"\n",
            "_________________________________________________________________\n",
            "Layer (type)                 Output Shape              Param #   \n",
            "=================================================================\n",
            "embedding_7 (Embedding)      (None, 300, 16)           168192    \n",
            "_________________________________________________________________\n",
            "conv1d (Conv1D)              (None, 295, 20)           1940      \n",
            "_________________________________________________________________\n",
            "lstm_4 (LSTM)                (None, 16)                2368      \n",
            "_________________________________________________________________\n",
            "dense_14 (Dense)             (None, 12)                204       \n",
            "_________________________________________________________________\n",
            "dense_15 (Dense)             (None, 3)                 39        \n",
            "=================================================================\n",
            "Total params: 172,743\n",
            "Trainable params: 172,743\n",
            "Non-trainable params: 0\n",
            "_________________________________________________________________\n",
            "Epoch 1/10\n",
            "366/366 [==============================] - 34s 87ms/step - loss: 0.9717 - accuracy: 0.6064 - val_loss: 0.9157 - val_accuracy: 0.6270\n",
            "Epoch 2/10\n",
            "366/366 [==============================] - 32s 87ms/step - loss: 0.9129 - accuracy: 0.6296 - val_loss: 0.9160 - val_accuracy: 0.6270\n",
            "Epoch 3/10\n",
            "366/366 [==============================] - 31s 86ms/step - loss: 0.9257 - accuracy: 0.6209 - val_loss: 0.9156 - val_accuracy: 0.6270\n",
            "Epoch 4/10\n",
            "366/366 [==============================] - 32s 87ms/step - loss: 0.9188 - accuracy: 0.6251 - val_loss: 0.9167 - val_accuracy: 0.6270\n",
            "Epoch 5/10\n",
            "366/366 [==============================] - 32s 87ms/step - loss: 0.9127 - accuracy: 0.6297 - val_loss: 0.9157 - val_accuracy: 0.6270\n",
            "Epoch 6/10\n",
            "366/366 [==============================] - 32s 87ms/step - loss: 0.9186 - accuracy: 0.6253 - val_loss: 0.9161 - val_accuracy: 0.6270\n",
            "Epoch 7/10\n",
            "366/366 [==============================] - 32s 86ms/step - loss: 0.9200 - accuracy: 0.6237 - val_loss: 0.9158 - val_accuracy: 0.6270\n",
            "Epoch 8/10\n",
            "366/366 [==============================] - 32s 87ms/step - loss: 0.9156 - accuracy: 0.6282 - val_loss: 0.9159 - val_accuracy: 0.6270\n",
            "Epoch 9/10\n",
            "366/366 [==============================] - 32s 87ms/step - loss: 0.9187 - accuracy: 0.6243 - val_loss: 0.9160 - val_accuracy: 0.6270\n",
            "Epoch 10/10\n",
            "366/366 [==============================] - 32s 86ms/step - loss: 0.9147 - accuracy: 0.6288 - val_loss: 0.9162 - val_accuracy: 0.6270\n"
          ],
          "name": "stdout"
        },
        {
          "output_type": "display_data",
          "data": {
            "image/png": "[encoded data removed]",
            "text/plain": [
              "<Figure size 432x288 with 1 Axes>"
            ]
          },
          "metadata": {
            "tags": [],
            "needs_background": "light"
          }
        }
      ]
    },
    {
      "cell_type": "code",
      "metadata": {
        "colab": {
          "base_uri": "https://localhost:8080/",
          "height": 949
        },
        "id": "j6u7hA-1ISDf",
        "outputId": "32affe9d-0501-4476-82ef-5be30810b4a6"
      },
      "source": [
        "\n",
        "#Model using Deep LSTM - 2 LSTM layers\n",
        "model_deeplstm = tf.keras.Sequential([\n",
        "                             tf.keras.layers.Embedding(vocab_size,embedding_dim,input_length = max_length),\n",
        "                             tf.keras.layers.LSTM(32,return_sequences=True),\n",
        "                             tf.keras.layers.LSTM(16),\n",
        "                             tf.keras.layers.Dense(12,activation='relu'),\n",
        "                             tf.keras.layers.Dense(3,activation='softmax')\n",
        "])\n",
        "model_deeplstm.compile(loss='categorical_crossentropy',optimizer='adam',metrics=['accuracy'])\n",
        "model_deeplstm.summary()\n",
        "\n",
        "num_epochs = 20\n",
        "history_deeplstm = model_deeplstm.fit(padded,y_train,epochs = num_epochs,validation_data=(testing_padded,y_test))\n",
        "\n",
        "plt.plot(history_deeplstm.history['accuracy'], label='accuracy')\n",
        "plt.plot(history_deeplstm.history['val_accuracy'], label = 'val_accuracy')\n",
        "plt.xlabel('Epoch')\n",
        "plt.ylabel('Accuracy')\n",
        "plt.ylim([0, 1])\n",
        "plt.legend(loc='lower right');"
      ],
      "execution_count": null,
      "outputs": [
        {
          "output_type": "stream",
          "text": [
            "Model: \"sequential_10\"\n",
            "_________________________________________________________________\n",
            "Layer (type)                 Output Shape              Param #   \n",
            "=================================================================\n",
            "embedding_9 (Embedding)      (None, 300, 16)           168192    \n",
            "_________________________________________________________________\n",
            "lstm_7 (LSTM)                (None, 300, 32)           6272      \n",
            "_________________________________________________________________\n",
            "lstm_8 (LSTM)                (None, 16)                3136      \n",
            "_________________________________________________________________\n",
            "dense_18 (Dense)             (None, 12)                204       \n",
            "_________________________________________________________________\n",
            "dense_19 (Dense)             (None, 3)                 39        \n",
            "=================================================================\n",
            "Total params: 177,843\n",
            "Trainable params: 177,843\n",
            "Non-trainable params: 0\n",
            "_________________________________________________________________\n",
            "Epoch 1/10\n",
            "366/366 [==============================] - 64s 168ms/step - loss: 0.9545 - accuracy: 0.6171 - val_loss: 0.9158 - val_accuracy: 0.6270\n",
            "Epoch 2/10\n",
            "366/366 [==============================] - 61s 168ms/step - loss: 0.9161 - accuracy: 0.6261 - val_loss: 0.9178 - val_accuracy: 0.6270\n",
            "Epoch 3/10\n",
            "366/366 [==============================] - 61s 168ms/step - loss: 0.9162 - accuracy: 0.6284 - val_loss: 0.9176 - val_accuracy: 0.6270\n",
            "Epoch 4/10\n",
            "366/366 [==============================] - 61s 167ms/step - loss: 0.9251 - accuracy: 0.6193 - val_loss: 0.9159 - val_accuracy: 0.6270\n",
            "Epoch 5/10\n",
            "366/366 [==============================] - 61s 167ms/step - loss: 0.9150 - accuracy: 0.6289 - val_loss: 0.9157 - val_accuracy: 0.6270\n",
            "Epoch 6/10\n",
            "366/366 [==============================] - 65s 178ms/step - loss: 0.9205 - accuracy: 0.6240 - val_loss: 0.9174 - val_accuracy: 0.6270\n",
            "Epoch 7/10\n",
            "366/366 [==============================] - 62s 168ms/step - loss: 0.9149 - accuracy: 0.6288 - val_loss: 0.9213 - val_accuracy: 0.6270\n",
            "Epoch 8/10\n",
            "366/366 [==============================] - 62s 170ms/step - loss: 0.9146 - accuracy: 0.6277 - val_loss: 0.9157 - val_accuracy: 0.6270\n",
            "Epoch 9/10\n",
            "366/366 [==============================] - 61s 168ms/step - loss: 0.9161 - accuracy: 0.6286 - val_loss: 0.9187 - val_accuracy: 0.6270\n",
            "Epoch 10/10\n",
            "366/366 [==============================] - 61s 168ms/step - loss: 0.9217 - accuracy: 0.6233 - val_loss: 0.9166 - val_accuracy: 0.6270\n"
          ],
          "name": "stdout"
        },
        {
          "output_type": "display_data",
          "data": {
            "image/png": "[encoded data removed]",
            "text/plain": [
              "<Figure size 432x288 with 1 Axes>"
            ]
          },
          "metadata": {
            "tags": [],
            "needs_background": "light"
          }
        }
      ]
    },
    {
      "cell_type": "markdown",
      "metadata": {
        "id": "DP4_Vs3kzX5R"
      },
      "source": [
        "# **Conclusions:**\n",
        "\n",
        "Problem statement is to analyse U.S. airline Twitter data and predict the sentiment of given text based on the ML models.\n",
        "\n",
        "Given raw data can not be processed as such it requires preprocessing to reduce the noise and minimize the total number of words which are having high importance in predicition by removing unwanted words in the test. Basically data preprocessing is a data mining technique which is used to transform the raw data in a useful and efficient format.\n",
        "\n",
        "Data Pre-processing:\n",
        "Removal of html tags. Replace contractions in string. (e.g. replace I'm --> I am) and so on. Remove numbers. Tokenization To remove Stopwords. Lemmatized data, NLTK library is used to tokenize words , remove stopwords and lemmatize the remaining words, convert upper case to lower, removal Html tag removal, Tokenization, Remove the numbers, Special Characters and Punctuations.\n",
        "\n",
        "All numeric and punctuation has been replaced with space\n",
        "Removing all irrelevant characters (Numbers and Punctuation)\n",
        "Removing URL\n",
        "Convert all characters into lowercase\n",
        "Removing Stopwords —\n",
        "“Stopwords” are the most common words in a language like “the”, “a”, “me”, “is”, “to”, “all”,. These words do not carry important meaning and are removed from text using Natural Language Toolkit (nltk). \n",
        "\n",
        "Stemming and Lemmatization —\n",
        "The aim of both processes is the same: reducing the inflectional forms of each word into a common base or root. Both process are different where Stemming refers to a crude process that chops off the ends of word in the hope of achieving this goal correctly most of the time.\n",
        "On the other hand, lemmatization consists in doing things properly with the use of a vocabulary and morphological analysis of words, to return the base or dictionary form of a word, which is known as the lemma. So lemmatization is been used\n",
        "\n",
        "\n",
        "Tokenization —\n",
        "Tokenization is the process of splitting the given text into smaller pieces called tokens. Words, numbers, punctuation marks, and others can be considered as tokens. So used Natural language tool kit (nltk) library for tokenization as a result string has been changed into tokens, that has been stored in the form of ‘list of string’ \n",
        "\n",
        "\n",
        "In CountVectorizer we only count the number of times a word appears in the document which results in biasing in favour of most frequent words so it ends up in ignoring the rare words. To overcome this, we use TfidfVectorizer .\n",
        "\n",
        "In TfidfVectorizer we consider overall document weightage of a word. It helps us in dealing with most frequent words. TfidfVectorizer weights the word counts by a measure of how often they appear in the documents. IDF tells us if a word (feature) can be used to distinguish documents. If a word appears in  majority of the documents  then IDF will be close to ‘0’ i.e. give low weightage to that feature.\n",
        "\n",
        "Random Forest and logistic regression ML models are built with count vectorizer and TF-IDF Vectoriser for the above sentiment classification problem where accuracy score was \n",
        "74% and 78% respectively for training data but for test data accuracy score was around 55 to 58%. So we can say that traing data is overfit and badly performed with test data. This may be due to uneven distribution of the data.\n",
        "\n",
        "Sequential Model - Word Embedding Vector with Dense Layers\n",
        "embedding_dim = 16 is built with Adam optimizer and classification entrophy as loss function with learning rate of .001.and relu activation funtion is used. DNN is built max pooling before the output layer where softmax function as it is a classification problem.Accuracy is used as a metrics and model produced 98% accuracy in training and 73% accuracy in testing.\n",
        "\n",
        "**Sequential Model - pretrained glove embedding vectors with Dense Layers and embedding_dim = 16** is built with Adam optimizer and categorical cross entrophy as loss function, relu activation funtion is used. DNN is built global max pooling before the output layer where softmax function as it is a classification problem. Accuracy is used as a metrics and model produced **96% accuracy in training and 73% **accuracy in testing with pretrained embedding vectors\n",
        "\n",
        "**Sequential Model using LSTM **is built with unidirectional and bidirectional weights where observed that training and test accuracy score is converged but it around **65% **even after changing different learning rates and activation function and tried with ADAgrad optimizer as well.\n",
        "\n",
        "so dense neural networks with sequential model with embedding dimension, Adam optimizer  and categorical cross entrophy as loss function, relu activation funtion is used. DNN is built global max pooling before the output layer where softmax function as it is a classification problem. Accuracy is used as a metrics and model produced **96% accuracy in training and 74% ** is the best score amongst all the other models.\n"
      ]
    }
  ]
}